{
 "cells": [
  {
   "cell_type": "markdown",
   "metadata": {},
   "source": [
    "# 1. Reading kmer presence/absence matrix which will be used as input to the model"
   ]
  },
  {
   "cell_type": "code",
   "execution_count": 1,
   "metadata": {},
   "outputs": [
    {
     "name": "stdout",
     "output_type": "stream",
     "text": [
      "        AAAACAACGCTAATCAAGCGAACAATCAAGC  AAACAACGCTAATCAAGCGAACAATCAAGCA  \\\n",
      "CA_001                              0.0                              0.0   \n",
      "CA_002                              0.0                              0.0   \n",
      "CA_003                              0.0                              0.0   \n",
      "CA_005                              0.0                              0.0   \n",
      "CA_007                              0.0                              0.0   \n",
      "\n",
      "        AAATTATTAAAGTTTAAAGAATAACCACCAT  AAAGATTTTTGTAGTTCTTCATCTTGGTTAA  \\\n",
      "CA_001                              0.0                              0.0   \n",
      "CA_002                              0.0                              0.0   \n",
      "CA_003                              0.0                              0.0   \n",
      "CA_005                              0.0                              0.0   \n",
      "CA_007                              0.0                              0.0   \n",
      "\n",
      "        AACAACGCTAATCAAGCGAACAATCAAGCAC  AACCAAGATGAAGAACTACAAAAATCTTTAG  \\\n",
      "CA_001                              0.0                              0.0   \n",
      "CA_002                              0.0                              0.0   \n",
      "CA_003                              0.0                              0.0   \n",
      "CA_005                              0.0                              0.0   \n",
      "CA_007                              0.0                              0.0   \n",
      "\n",
      "        AATCCGAATCGCTATCTGAATCTGAATCGCT  AATCTGAATCGCTATCCGAGTCTGAGTCGCT  \\\n",
      "CA_001                              0.0                              0.0   \n",
      "CA_002                              0.0                              0.0   \n",
      "CA_003                              0.0                              0.0   \n",
      "CA_005                              0.0                              0.0   \n",
      "CA_007                              0.0                              0.0   \n",
      "\n",
      "        AATCTGAATCGCTATCTGAATCTGAATCGCT  AATCGCTATCCGAGTCTGAGTCGCTGTCTGA  ...  \\\n",
      "CA_001                              1.0                              0.0  ...   \n",
      "CA_002                              0.0                              0.0  ...   \n",
      "CA_003                              1.0                              0.0  ...   \n",
      "CA_005                              0.0                              0.0  ...   \n",
      "CA_007                              0.0                              0.0  ...   \n",
      "\n",
      "        GAATCTGAATCACTCGCTGAATCTGAACCAC  GAATCTGAATCACTCGCTGAGTCTGAATCAC  \\\n",
      "CA_001                              0.0                              0.0   \n",
      "CA_002                              0.0                              0.0   \n",
      "CA_003                              1.0                              0.0   \n",
      "CA_005                              0.0                              0.0   \n",
      "CA_007                              0.0                              0.0   \n",
      "\n",
      "        GAAGTGAGGCGCAAGCAGCAGAATTAGATAC  GATACCAAGCTTGTGAATTATTAACAAACTC  \\\n",
      "CA_001                              0.0                              0.0   \n",
      "CA_002                              0.0                              0.0   \n",
      "CA_003                              0.0                              0.0   \n",
      "CA_005                              0.0                              0.0   \n",
      "CA_007                              0.0                              0.0   \n",
      "\n",
      "        GAGTCTGAATCACTCGCTGAATCCGAGTCAC  GCAACTTTGACCATGCCCGCTTATATTGACC  \\\n",
      "CA_001                              0.0                              0.0   \n",
      "CA_002                              0.0                              0.0   \n",
      "CA_003                              0.0                              0.0   \n",
      "CA_005                              0.0                              0.0   \n",
      "CA_007                              0.0                              0.0   \n",
      "\n",
      "        GCTCTTGATACCAAGCTTGTGAATTATTAAC  GCTGAATCTGAATCACTCGCTGAATCTGAAC  \\\n",
      "CA_001                              0.0                              0.0   \n",
      "CA_002                              0.0                              0.0   \n",
      "CA_003                              0.0                              1.0   \n",
      "CA_005                              0.0                              0.0   \n",
      "CA_007                              0.0                              0.0   \n",
      "\n",
      "        GCGGTGTTGGAGTTTCTGGCTCACTCGGCAC  Label  \n",
      "CA_001                              0.0      1  \n",
      "CA_002                              0.0      1  \n",
      "CA_003                              0.0      0  \n",
      "CA_005                              0.0      1  \n",
      "CA_007                              0.0      0  \n",
      "\n",
      "[5 rows x 22436 columns]\n"
     ]
    }
   ],
   "source": [
    "import os\n",
    "import pandas as pd\n",
    "\n",
    "os.chdir('..')\n",
    "\n",
    "# Reading the kmer presence/absence matrix into a dataframe to use as input to models\n",
    "df = pd.read_csv('Data/Matrices/FullGeneKmerMatrix.csv', index_col=0)\n",
    "\n",
    "# Checking that dataframe was read correctly\n",
    "print(df.head())"
   ]
  },
  {
   "cell_type": "markdown",
   "metadata": {},
   "source": [
    "# 2. Train/Test split with stratification"
   ]
  },
  {
   "cell_type": "code",
   "execution_count": 2,
   "metadata": {},
   "outputs": [
    {
     "name": "stdout",
     "output_type": "stream",
     "text": [
      "Number of samples within each class:\t\t\t\t\t  (array([0, 1], dtype=int64), array([28, 92], dtype=int64))\n",
      "Number of samples within each class in training dataframe (stratified):\t  (array([0, 1], dtype=int64), array([22, 74], dtype=int64))\n",
      "Number of samples within each class in testing dataframe (stratified):\t  (array([0, 1], dtype=int64), array([ 6, 18], dtype=int64))\n"
     ]
    }
   ],
   "source": [
    "from sklearn.model_selection import train_test_split\n",
    "import numpy as np\n",
    "\n",
    "train_df, test_df = train_test_split(df, train_size=0.8, test_size=0.2, random_state=0, stratify=df.loc[:,'Label'])\n",
    "train_labels = train_df.loc[:,'Label']\n",
    "test_labels = test_df.loc[:,'Label']\n",
    "\n",
    "print('Number of samples within each class:\\t\\t\\t\\t\\t ' , np.unique(df.loc[:,'Label'], return_counts=True))\n",
    "print('Number of samples within each class in training dataframe (stratified):\\t ' , np.unique(train_df.loc[:,'Label'], return_counts=True))\n",
    "print('Number of samples within each class in testing dataframe (stratified):\\t ', np.unique(test_df.loc[:,'Label'], return_counts=True))\n",
    "\n",
    "# Dropping the labels of both the train and test dataframes after storing them in separate series above (train_labels, test_labels)\n",
    "train_df = train_df.drop(labels='Label', axis=1)\n",
    "test_df = test_df.drop(labels='Label', axis=1)"
   ]
  },
  {
   "cell_type": "markdown",
   "metadata": {},
   "source": [
    "# Building Support Vector Machines classifier \n",
    "# using default parameters to determine baseline accuracy.\n",
    "**Default parameters for Linear SVM (kernel='linear'):**\n",
    "- C = 1\n",
    "- tol = 0.001\n",
    "\n",
    "**Default parameters for Polynomial SVM (kernel='poly'):**\n",
    "- C = 1\n",
    "- tol = 0.001\n",
    "- degree = 3\n",
    "- gamma = 'scale'\n",
    "- coef0 = 0.0\n",
    "\n",
    "**Default parameters for RBF SVM (kernel='rbf')**\n",
    "- C = 1\n",
    "- tol = 0.001\n",
    "- gamma = 'scale'\n",
    "\n",
    "**Default parameter for Sigmoid SVM (kernel='sigmoid')**\n",
    "- C = 1\n",
    "- tol = 0.001\n",
    "- gamma = 'scale'\n",
    "- coef0 = 0.0"
   ]
  },
  {
   "cell_type": "code",
   "execution_count": 8,
   "metadata": {},
   "outputs": [
    {
     "name": "stdout",
     "output_type": "stream",
     "text": [
      "Linear SVM:\n",
      "\n",
      "Baseline accuracy: \n",
      "[0.6        0.68421053 0.52631579 0.84210526 0.63157895]\n",
      "Mean baseline accuracy: 0.6568421052631578\n",
      "\n",
      "Baseline F1 score: \n",
      "[0.5625     0.69838057 0.57004049 0.83337376 0.61120543]\n",
      "Mean baseline F1 score: 0.6551000485083678\n",
      "---------------------------------------------------------------\n",
      "\n",
      "\n",
      "Polynomial (degree = 3) SVM:\n",
      "\n",
      "Baseline accuracy: \n",
      "[0.75       0.73684211 0.78947368 0.78947368 0.78947368]\n",
      "Mean baseline accuracy: 0.7710526315789474\n",
      "\n",
      "Baseline F1 score: \n",
      "[0.64285714 0.62519936 0.69659443 0.69659443 0.69659443]\n",
      "Mean baseline F1 score: 0.6715679573264712\n",
      "---------------------------------------------------------------\n",
      "\n",
      "\n",
      "Radial Basis Function (RBF) SVM:\n",
      "\n",
      "Baseline accuracy: \n",
      "[0.75       0.73684211 0.78947368 0.84210526 0.78947368]\n",
      "Mean baseline accuracy: 0.781578947368421\n",
      "\n",
      "Baseline F1 score: \n",
      "[0.64285714 0.62519936 0.69659443 0.80191388 0.69659443]\n",
      "Mean baseline F1 score: 0.6926318469971721\n",
      "---------------------------------------------------------------\n",
      "\n",
      "\n",
      "Sigmoid SVM:\n",
      "\n",
      "Baseline accuracy: \n",
      "[0.75       0.73684211 0.78947368 0.78947368 0.78947368]\n",
      "Mean baseline accuracy: 0.7710526315789474\n",
      "\n",
      "Baseline F1 score: \n",
      "[0.64285714 0.62519936 0.69659443 0.69659443 0.69659443]\n",
      "Mean baseline F1 score: 0.6715679573264712\n"
     ]
    }
   ],
   "source": [
    "from sklearn import svm\n",
    "from sklearn.model_selection import cross_val_score\n",
    "\n",
    "# Initializing Linear SVM classifier using default parameters as baseline\n",
    "svm_estimator_linear = svm.SVC(random_state=0,  kernel='linear')\n",
    "baseline_accuracy_linear = cross_val_score(svm_estimator_linear, train_df, train_labels, cv=5, scoring='accuracy')\n",
    "baseline_f1_linear = cross_val_score(svm_estimator_linear, train_df, train_labels, cv=5, scoring='f1_weighted')\n",
    "\n",
    "print('Linear SVM:\\n')\n",
    "print('Baseline accuracy: ')\n",
    "print(baseline_accuracy_linear)\n",
    "print('Mean baseline accuracy:', baseline_accuracy_linear.mean())\n",
    "\n",
    "print('\\nBaseline F1 score: ')\n",
    "print(baseline_f1_linear)\n",
    "print('Mean baseline F1 score:', baseline_f1_linear.mean())\n",
    "print('---------------------------------------------------------------\\n\\n')\n",
    "\n",
    "# Initializing Polynomial (degree = 3) SVM classifier using default parameters as baseline\n",
    "svm_estimator_poly = svm.SVC(random_state=0,  kernel='poly')\n",
    "baseline_accuracy_poly = cross_val_score(svm_estimator_poly, train_df, train_labels, cv=5, scoring='accuracy')\n",
    "baseline_f1_poly = cross_val_score(svm_estimator_poly, train_df, train_labels, cv=5, scoring='f1_weighted')\n",
    "\n",
    "print('Polynomial (degree = 3) SVM:\\n')\n",
    "print('Baseline accuracy: ')\n",
    "print(baseline_accuracy_poly)\n",
    "print('Mean baseline accuracy:', baseline_accuracy_poly.mean())\n",
    "\n",
    "print('\\nBaseline F1 score: ')\n",
    "print(baseline_f1_poly)\n",
    "print('Mean baseline F1 score:', baseline_f1_poly.mean())\n",
    "print('---------------------------------------------------------------\\n\\n')\n",
    "\n",
    "# Initializing RBF SVM classifier using default parameters as baseline\n",
    "svm_estimator_rbf = svm.SVC(random_state=0,  kernel='rbf')\n",
    "baseline_accuracy_rbf = cross_val_score(svm_estimator_rbf, train_df, train_labels, cv=5, scoring='accuracy')\n",
    "baseline_f1_rbf = cross_val_score(svm_estimator_rbf, train_df, train_labels, cv=5, scoring='f1_weighted')\n",
    "\n",
    "print('Radial Basis Function (RBF) SVM:\\n')\n",
    "print('Baseline accuracy: ')\n",
    "print(baseline_accuracy_rbf)\n",
    "print('Mean baseline accuracy:', baseline_accuracy_rbf.mean())\n",
    "\n",
    "print('\\nBaseline F1 score: ')\n",
    "print(baseline_f1_rbf)\n",
    "print('Mean baseline F1 score:', baseline_f1_rbf.mean())\n",
    "print('---------------------------------------------------------------\\n\\n')\n",
    "\n",
    "# Initializing sigmoid SVM classifier using default parameters as baseline\n",
    "svm_estimator_sigmoid = svm.SVC(random_state=0,  kernel='sigmoid')\n",
    "baseline_accuracy_sigmoid = cross_val_score(svm_estimator_sigmoid, train_df, train_labels, cv=5, scoring='accuracy')\n",
    "baseline_f1_sigmoid = cross_val_score(svm_estimator_sigmoid, train_df, train_labels, cv=5, scoring='f1_weighted')\n",
    "\n",
    "print('Sigmoid SVM:\\n')\n",
    "print('Baseline accuracy: ')\n",
    "print(baseline_accuracy_sigmoid)\n",
    "print('Mean baseline accuracy:', baseline_accuracy_sigmoid.mean())\n",
    "\n",
    "print('\\nBaseline F1 score: ')\n",
    "print(baseline_f1_sigmoid)\n",
    "print('Mean baseline F1 score:', baseline_f1_sigmoid.mean())"
   ]
  },
  {
   "cell_type": "markdown",
   "metadata": {},
   "source": [
    "# 4. Hyperparameter tuning using GridSearchCV\n"
   ]
  },
  {
   "cell_type": "markdown",
   "metadata": {},
   "source": [
    "### 4.1 Hyperparameter tuning of Linear SVM"
   ]
  },
  {
   "cell_type": "code",
   "execution_count": 53,
   "metadata": {},
   "outputs": [],
   "source": [
    "# Setting grid search parameters for tuning\n",
    "param_grid_linear = {\n",
    "    'C': [0.001,0.01,0.1,1,10,100,1000],\n",
    "    'tol': [0.001,0.0001,0.00001],\n",
    "\n",
    "}"
   ]
  },
  {
   "cell_type": "code",
   "execution_count": 54,
   "metadata": {},
   "outputs": [
    {
     "name": "stdout",
     "output_type": "stream",
     "text": [
      "\n",
      "Best parameter combination using grid search: {'C': 0.01, 'tol': 0.001}\n",
      "\n",
      "This combination has accuracy:\n",
      "    mean_test_score  std_test_score                     params\n",
      "3         0.781579        0.036842  {'C': 0.01, 'tol': 0.001}\n",
      "\n",
      "Tuned Linear SVM accuracy: \n",
      "[0.75       0.78947368 0.78947368 0.84210526 0.73684211]\n",
      "Mean tuned RandomForest accuracy: 0.781578947368421\n",
      "\n",
      "Tuned Linear SVM F1 score: \n",
      "[0.64285714 0.77017544 0.69659443 0.80191388 0.66985646]\n",
      "Mean tuned Linear SVM F1 score: 0.7162794687252891\n"
     ]
    }
   ],
   "source": [
    "import numpy as np\n",
    "import pandas as pd\n",
    "from sklearn.model_selection import cross_val_score, GridSearchCV\n",
    "\n",
    "# Performing grid search to tune hyperparameters specified in param_dict\n",
    "grid_search_linear = GridSearchCV(svm_estimator_linear, param_grid_linear, cv=5, scoring='accuracy', n_jobs=36)\n",
    "grid_search_linear.fit(train_df, train_labels)\n",
    "\n",
    "# Determining the best parameters\n",
    "grid_results_linear_df=pd.DataFrame(grid_search_linear.cv_results_)[['mean_test_score', 'std_test_score', 'params']]\n",
    "best_params_linear_grid = grid_search_linear.best_params_\n",
    "best_model_linear_grid = grid_search_linear.best_estimator_\n",
    "\n",
    "print(\"\\nBest parameter combination using grid search:\", best_params_linear_grid)\n",
    "print(\"\\nThis combination has accuracy:\\n\", grid_results_linear_df[grid_results_linear_df['params'] == best_params_linear_grid])\n",
    "\n",
    "# Determining accuracy and F1 score of the model with the most tuned hyperparameters from grid search\n",
    "cv_accuracy_tuned_linear_model_grid = cross_val_score(best_model_linear_grid, train_df, train_labels, cv=5, scoring='accuracy')\n",
    "cv_f1_tuned_linear_model_grid = cross_val_score(best_model_linear_grid, train_df, train_labels, cv=5, scoring='f1_weighted')\n",
    "\n",
    "print('\\nTuned Linear SVM accuracy: ')\n",
    "print(cv_accuracy_tuned_linear_model_grid)\n",
    "print('Mean tuned RandomForest accuracy:', cv_accuracy_tuned_linear_model_grid.mean())\n",
    "\n",
    "print('\\nTuned Linear SVM F1 score: ')\n",
    "print(cv_f1_tuned_linear_model_grid)\n",
    "print('Mean tuned Linear SVM F1 score:', cv_f1_tuned_linear_model_grid.mean())"
   ]
  },
  {
   "cell_type": "markdown",
   "metadata": {},
   "source": [
    "### 4.2 Hyperparameter tuning of Non-Linear SVM (Polynomial, RBF, Sigmoid)"
   ]
  },
  {
   "cell_type": "code",
   "execution_count": 3,
   "metadata": {},
   "outputs": [],
   "source": [
    "# Setting grid search parameters for tuning\n",
    "param_grid_nonlinear1 = {\n",
    "    'C': [0.0001,0.001,0.01,0.1,1,10,100,1000],\n",
    "    'tol': [0.001,0.0001,0.00001],\n",
    "    'kernel':['poly', 'rbf', 'sigmoid'],\n",
    "    'degree':range(3,7,1),\n",
    "    'gamma': ['scale','auto'],\n",
    "}"
   ]
  },
  {
   "cell_type": "code",
   "execution_count": 4,
   "metadata": {},
   "outputs": [
    {
     "name": "stdout",
     "output_type": "stream",
     "text": [
      "Fitting 5 folds for each of 576 candidates, totalling 2880 fits\n",
      "\n",
      "Best parameter combination using grid search: {'C': 100, 'degree': 3, 'gamma': 'auto', 'kernel': 'rbf', 'tol': 0.001}\n",
      "\n",
      "This combination has accuracy:\n",
      "      mean_test_score  std_test_score  \\\n",
      "444         0.792105        0.029304   \n",
      "\n",
      "                                                params  \n",
      "444  {'C': 100, 'degree': 3, 'gamma': 'auto', 'kern...  \n",
      "\n",
      "Tuned Nonlinear SVM accuracy: \n",
      "[0.75       0.78947368 0.78947368 0.84210526 0.78947368]\n",
      "Mean tuned Nonlinear SVM accuracy: 0.7921052631578946\n",
      "\n",
      "Tuned Nonlinear SVM F1 score: \n",
      "[0.64285714 0.77017544 0.69659443 0.80191388 0.69659443]\n",
      "Mean tuned Nonlinear SVM F1 score: 0.7216270623081769\n",
      "\n",
      "Tuned RandomForest ROC AUC score: \n",
      "[0.38666667 0.71428571 0.56666667 0.6        0.11666667]\n",
      "Mean tuned RandomForest ROC AUC score: 0.47685714285714287\n"
     ]
    }
   ],
   "source": [
    "import numpy as np\n",
    "import pandas as pd\n",
    "from sklearn import svm\n",
    "from sklearn.model_selection import cross_val_score, GridSearchCV\n",
    "\n",
    "# Performing grid search to tune hyperparameters specified in param_dict\n",
    "grid_search_nonlinear1 = GridSearchCV(svm.SVC(random_state=0), param_grid_nonlinear1, cv=5, scoring='accuracy', n_jobs=36, verbose=3)\n",
    "grid_search_nonlinear1.fit(train_df, train_labels)\n",
    "\n",
    "# Determining the best parameters\n",
    "grid_results_nonlinear1_df=pd.DataFrame(grid_search_nonlinear1.cv_results_)[['mean_test_score', 'std_test_score', 'params']]\n",
    "best_params_nonlinear1_grid = grid_search_nonlinear1.best_params_\n",
    "best_model_nonlinear1_grid = grid_search_nonlinear1.best_estimator_\n",
    "\n",
    "print(\"\\nBest parameter combination using grid search:\", best_params_nonlinear1_grid)\n",
    "print(\"\\nThis combination has accuracy:\\n\", grid_results_nonlinear1_df[grid_results_nonlinear1_df['params'] == best_params_nonlinear1_grid])\n",
    "\n",
    "# Determining accuracy and F1 score of the model with the most tuned hyperparameters from grid search\n",
    "cv_accuracy_tuned_nonlinear1_model_grid = cross_val_score(best_model_nonlinear1_grid, train_df, train_labels, cv=5, scoring='accuracy')\n",
    "cv_f1_tuned_nonlinear1_model_grid = cross_val_score(best_model_nonlinear1_grid, train_df, train_labels, cv=5, scoring='f1_weighted')\n",
    "cv_roc_auc_tuned_nonlinear1_model_grid = cross_val_score(best_model_nonlinear1_grid, train_df, train_labels, cv=5, scoring='roc_auc')\n",
    "\n",
    "print('\\nTuned Nonlinear SVM accuracy: ')\n",
    "print(cv_accuracy_tuned_nonlinear1_model_grid)\n",
    "print('Mean tuned Nonlinear SVM accuracy:', cv_accuracy_tuned_nonlinear1_model_grid.mean())\n",
    "\n",
    "print('\\nTuned Nonlinear SVM F1 score: ')\n",
    "print(cv_f1_tuned_nonlinear1_model_grid)\n",
    "print('Mean tuned Nonlinear SVM F1 score:', cv_f1_tuned_nonlinear1_model_grid.mean())\n",
    "\n",
    "print('\\nTuned RandomForest ROC AUC score: ')\n",
    "print(cv_roc_auc_tuned_nonlinear1_model_grid)\n",
    "print('Mean tuned RandomForest ROC AUC score:', cv_roc_auc_tuned_nonlinear1_model_grid.mean())"
   ]
  },
  {
   "cell_type": "code",
   "execution_count": 10,
   "metadata": {},
   "outputs": [],
   "source": [
    "# Setting grid search parameters for tuning\n",
    "param_grid_balanced = {\n",
    "    'C': [0.0001,0.001,0.01,0.1,1,10,100,1000],\n",
    "    'tol': [0.001,0.0001,0.00001],\n",
    "    'kernel':['poly', 'rbf', 'sigmoid'],\n",
    "    'degree':range(3,7,1),\n",
    "    'gamma': ['scale','auto'],\n",
    "    'class_weight': ['balanced']\n",
    "}"
   ]
  },
  {
   "cell_type": "code",
   "execution_count": 11,
   "metadata": {},
   "outputs": [
    {
     "name": "stdout",
     "output_type": "stream",
     "text": [
      "Fitting 5 folds for each of 576 candidates, totalling 2880 fits\n",
      "\n",
      "Best parameter combination using grid search: {'C': 0.0001, 'class_weight': 'balanced', 'degree': 5, 'gamma': 'scale', 'kernel': 'poly', 'tol': 0.001}\n",
      "\n",
      "This combination has accuracy:\n",
      "     mean_test_score  std_test_score  \\\n",
      "36         0.771053        0.022942   \n",
      "\n",
      "                                               params  \n",
      "36  {'C': 0.0001, 'class_weight': 'balanced', 'deg...  \n",
      "\n",
      "Tuned balanced Nonlinear SVM accuracy: \n",
      "[0.75       0.73684211 0.78947368 0.78947368 0.78947368]\n",
      "Mean tuned balanced Nonlinear SVM accuracy: 0.7710526315789474\n",
      "\n",
      "Tuned balanced Nonlinear SVM F1 score: \n",
      "[0.64285714 0.62519936 0.69659443 0.69659443 0.69659443]\n",
      "Mean tuned balanced Nonlinear SVM F1 score: 0.6715679573264712\n",
      "\n",
      "Tuned balanced Nonlinear SVM ROC-AUC score: \n",
      "[0.32       0.3        0.36666667 0.58333333 0.51666667]\n",
      "Mean tuned balanced Nonlinear SVM ROC-AUC score: 0.4173333333333333\n"
     ]
    }
   ],
   "source": [
    "import numpy as np\n",
    "import pandas as pd\n",
    "from sklearn import svm\n",
    "from sklearn.model_selection import cross_val_score, GridSearchCV\n",
    "\n",
    "# Performing grid search to tune hyperparameters specified in param_dict\n",
    "grid_search_balanced = GridSearchCV(svm.SVC(random_state=0), param_grid_balanced, cv=5, scoring='accuracy', n_jobs=36, verbose=3)\n",
    "grid_search_balanced.fit(train_df, train_labels)\n",
    "\n",
    "# Determining the best parameters\n",
    "grid_results_balanced_df=pd.DataFrame(grid_search_balanced.cv_results_)[['mean_test_score', 'std_test_score', 'params']]\n",
    "best_params_balanced_grid = grid_search_balanced.best_params_\n",
    "best_model_balanced_grid = grid_search_balanced.best_estimator_\n",
    "\n",
    "print(\"\\nBest parameter combination using grid search:\", best_params_balanced_grid)\n",
    "print(\"\\nThis combination has accuracy:\\n\", grid_results_balanced_df[grid_results_balanced_df['params'] == best_params_balanced_grid])\n",
    "\n",
    "# Determining accuracy and F1 score of the model with the most tuned hyperparameters from grid search\n",
    "cv_accuracy_tuned_balanced_model_grid = cross_val_score(best_model_balanced_grid, train_df, train_labels, cv=5, scoring='accuracy')\n",
    "cv_f1_tuned_balanced_model_grid = cross_val_score(best_model_balanced_grid, train_df, train_labels, cv=5, scoring='f1_weighted')\n",
    "cv_roc_auc_tuned_balanced_model_grid = cross_val_score(best_model_balanced_grid, train_df, train_labels, cv=5, scoring='roc_auc')\n",
    "\n",
    "print('\\nTuned balanced Nonlinear SVM accuracy: ')\n",
    "print(cv_accuracy_tuned_balanced_model_grid)\n",
    "print('Mean tuned balanced Nonlinear SVM accuracy:', cv_accuracy_tuned_balanced_model_grid.mean())\n",
    "\n",
    "print('\\nTuned balanced Nonlinear SVM F1 score: ')\n",
    "print(cv_f1_tuned_balanced_model_grid)\n",
    "print('Mean tuned balanced Nonlinear SVM F1 score:', cv_f1_tuned_balanced_model_grid.mean())\n",
    "\n",
    "print('\\nTuned balanced Nonlinear SVM ROC-AUC score: ')\n",
    "print(cv_roc_auc_tuned_balanced_model_grid)\n",
    "print('Mean tuned balanced Nonlinear SVM ROC-AUC score:', cv_roc_auc_tuned_balanced_model_grid.mean())\n"
   ]
  },
  {
   "cell_type": "markdown",
   "metadata": {},
   "source": [
    "# 5. Determining the model support vectors\n"
   ]
  },
  {
   "cell_type": "code",
   "execution_count": 7,
   "metadata": {},
   "outputs": [
    {
     "name": "stdout",
     "output_type": "stream",
     "text": [
      "[ 0  6  7  8  9 12 15 17 21 29 32 38 47 54 58 65 72 79 83 89 94 95  1  3\n",
      "  4  5 11 13 14 18 20 25 26 28 30 33 37 42 43 44 45 46 50 51 52 53 55 56\n",
      " 57 60 61 66 67 68 69 71 73 76 77 78 84 86 87 91 93]\n",
      "[22 43]\n"
     ]
    }
   ],
   "source": [
    "# For nonlinear SVM without class balancing\n",
    "\n",
    "# get indices of support vectors\n",
    "print(best_model_nonlinear1_grid.support_)\n",
    "\n",
    "# get number of support vectors for each class\n",
    "print(best_model_nonlinear1_grid.n_support_)"
   ]
  },
  {
   "cell_type": "code",
   "execution_count": 98,
   "metadata": {},
   "outputs": [
    {
     "name": "stdout",
     "output_type": "stream",
     "text": [
      "[ 0  6  7  8  9 12 15 17 21 29 32 38 47 54 58 65 72 79 83 89 94 95  1  2\n",
      "  3  4  5 10 11 13 14 16 18 19 20 22 23 24 25 26 27 28 30 31 33 34 35 36\n",
      " 37 39 40 41 42 43 44 45 46 48 49 50 51 52 53 55 56 57 59 60 61 62 63 64\n",
      " 66 67 68 69 70 71 73 74 75 76 77 78 80 81 82 84 85 86 87 88 90 91 92 93]\n",
      "[22 74]\n"
     ]
    }
   ],
   "source": [
    "# For nonlinear SVM with class balancing\n",
    "\n",
    "# get indices of support vectors\n",
    "print(best_model_balanced_grid.support_)\n",
    "\n",
    "# get number of support vectors for each class\n",
    "print(best_model_balanced_grid.n_support_)\n"
   ]
  },
  {
   "cell_type": "markdown",
   "metadata": {},
   "source": [
    "# 6. Using the Optimized SVM model on testing data to determine accuracy. This process is done once for nonlinear SVM model without class balancing and again for nonlinear SVM with class balancing.\n",
    "- Classification report\n",
    "- Confusion matrix\n"
   ]
  },
  {
   "cell_type": "code",
   "execution_count": 13,
   "metadata": {},
   "outputs": [
    {
     "name": "stdout",
     "output_type": "stream",
     "text": [
      "              precision    recall  f1-score   support\n",
      "\n",
      "           0       1.00      0.17      0.29         6\n",
      "           1       0.78      1.00      0.88        18\n",
      "\n",
      "    accuracy                           0.79        24\n",
      "   macro avg       0.89      0.58      0.58        24\n",
      "weighted avg       0.84      0.79      0.73        24\n",
      "\n"
     ]
    }
   ],
   "source": [
    "# For nonlinear SVM without class balancing\n",
    "\n",
    "from sklearn.metrics import classification_report\n",
    "\n",
    "SVM_nonlinear_model_predictions = best_model_nonlinear1_grid.predict(test_df) \n",
    "  \n",
    "print(classification_report(test_labels, SVM_nonlinear_model_predictions))\n"
   ]
  },
  {
   "cell_type": "code",
   "execution_count": 109,
   "metadata": {},
   "outputs": [
    {
     "name": "stdout",
     "output_type": "stream",
     "text": [
      "              precision    recall  f1-score   support\n",
      "\n",
      "           0       0.00      0.00      0.00         6\n",
      "           1       0.75      1.00      0.86        18\n",
      "\n",
      "    accuracy                           0.75        24\n",
      "   macro avg       0.38      0.50      0.43        24\n",
      "weighted avg       0.56      0.75      0.64        24\n",
      "\n"
     ]
    },
    {
     "name": "stderr",
     "output_type": "stream",
     "text": [
      "c:\\Users\\HP\\AppData\\Local\\Programs\\Python\\Python312\\Lib\\site-packages\\sklearn\\metrics\\_classification.py:1471: UndefinedMetricWarning: Precision and F-score are ill-defined and being set to 0.0 in labels with no predicted samples. Use `zero_division` parameter to control this behavior.\n",
      "  _warn_prf(average, modifier, msg_start, len(result))\n",
      "c:\\Users\\HP\\AppData\\Local\\Programs\\Python\\Python312\\Lib\\site-packages\\sklearn\\metrics\\_classification.py:1471: UndefinedMetricWarning: Precision and F-score are ill-defined and being set to 0.0 in labels with no predicted samples. Use `zero_division` parameter to control this behavior.\n",
      "  _warn_prf(average, modifier, msg_start, len(result))\n",
      "c:\\Users\\HP\\AppData\\Local\\Programs\\Python\\Python312\\Lib\\site-packages\\sklearn\\metrics\\_classification.py:1471: UndefinedMetricWarning: Precision and F-score are ill-defined and being set to 0.0 in labels with no predicted samples. Use `zero_division` parameter to control this behavior.\n",
      "  _warn_prf(average, modifier, msg_start, len(result))\n"
     ]
    }
   ],
   "source": [
    "# For nonlinear SVM with class balancing\n",
    "\n",
    "from sklearn.metrics import classification_report\n",
    "\n",
    "SVM_nonlinear_model_predictions = best_model_balanced_grid.predict(test_df) \n",
    "  \n",
    "print(classification_report(test_labels, SVM_nonlinear_model_predictions))"
   ]
  },
  {
   "cell_type": "code",
   "execution_count": 14,
   "metadata": {},
   "outputs": [
    {
     "data": {
      "image/png": "[encoded data removed]",
      "text/plain": [
       "<Figure size 640x480 with 2 Axes>"
      ]
     },
     "metadata": {},
     "output_type": "display_data"
    }
   ],
   "source": [
    "# For nonlinear SVM without class balancing\n",
    "\n",
    "import matplotlib.pyplot as plt\n",
    "from sklearn.metrics import confusion_matrix, ConfusionMatrixDisplay\n",
    "\n",
    "SVM_nonlinear_model_predictions = best_model_nonlinear1_grid.predict(test_df) \n",
    "\n",
    "disp = ConfusionMatrixDisplay.from_predictions(test_labels, SVM_nonlinear_model_predictions, labels=best_model_nonlinear1_grid.classes_, cmap='cividis')\n"
   ]
  },
  {
   "cell_type": "code",
   "execution_count": 106,
   "metadata": {},
   "outputs": [
    {
     "data": {
      "image/png": "[encoded data removed]",
      "text/plain": [
       "<Figure size 640x480 with 2 Axes>"
      ]
     },
     "metadata": {},
     "output_type": "display_data"
    }
   ],
   "source": [
    "# For nonlinear SVM with class balancing\n",
    "\n",
    "import matplotlib.pyplot as plt\n",
    "from sklearn.metrics import confusion_matrix, ConfusionMatrixDisplay\n",
    "\n",
    "SVM_nonlinear_model_predictions = best_model_balanced_grid.predict(test_df) \n",
    "\n",
    "disp = ConfusionMatrixDisplay.from_predictions(test_labels, SVM_nonlinear_model_predictions, labels=best_model_balanced_grid.classes_, cmap='cividis')\n"
   ]
  }
 ],
 "metadata": {
  "kernelspec": {
   "display_name": "Python 3",
   "language": "python",
   "name": "python3"
  },
  "language_info": {
   "codemirror_mode": {
    "name": "ipython",
    "version": 3
   },
   "file_extension": ".py",
   "mimetype": "text/x-python",
   "name": "python",
   "nbconvert_exporter": "python",
   "pygments_lexer": "ipython3",
   "version": "3.12.1"
  }
 },
 "nbformat": 4,
 "nbformat_minor": 2
}
