{
 "cells": [
  {
   "cell_type": "markdown",
   "metadata": {},
   "source": [
    "# 1. Reading the kmers used to build the RandomForest in order to build an SVM model using these kmers only."
   ]
  },
  {
   "cell_type": "code",
   "execution_count": 3,
   "metadata": {},
   "outputs": [
    {
     "name": "stdout",
     "output_type": "stream",
     "text": [
      "                                 Importance\n",
      "Kmer                                       \n",
      "ACCAGTACCACCTGCCAAAGAAGAACCTAAA    0.009313\n",
      "ACAGCGATTCAGACTCAGATAGCGACTCAGA    0.007401\n",
      "TAACCAAGACGGAAAACGACCAACTGAAATC    0.006464\n",
      "AATTCAACTAAGTTAGACTCAGTAGTAACCT    0.006102\n",
      "AGTCGGAATCACTATCTGAATCCGAATCACT    0.004921\n",
      "(1364, 1)\n",
      "Importance    float64\n",
      "dtype: object\n"
     ]
    }
   ],
   "source": [
    "import pandas as pd\n",
    "import os\n",
    "\n",
    "os.chdir('..')\n",
    "\n",
    "# Reading .csv file containing only the kmers used to build the RandomForest\n",
    "selected_kmers=pd.read_csv('Data/Matrices/ImportantKmers.csv', usecols = ['Kmer', 'Importance'],index_col=0)\n",
    "\n",
    "print(selected_kmers.head())\n",
    "print(selected_kmers.shape)\n",
    "print(selected_kmers.dtypes)"
   ]
  },
  {
   "cell_type": "markdown",
   "metadata": {},
   "source": [
    "# 2. Investigating which of the 12 genes the selected kmers origninated from"
   ]
  },
  {
   "cell_type": "markdown",
   "metadata": {},
   "source": [
    "### 2.1 Creating a dictionary with keys = genes that the selected kmers originated from & value = the number of kmers from the 1365 selected kmers that originated from that gene."
   ]
  },
  {
   "cell_type": "code",
   "execution_count": 4,
   "metadata": {},
   "outputs": [
    {
     "name": "stdout",
     "output_type": "stream",
     "text": [
      "{'eno': 2, 'ebps': 5, 'clfA': 54, 'fnbB': 105, 'clfB': 123, 'fnbA': 144, 'cna': 314}\n",
      "{'eno': 0.0007423868373452, 'ebps': 0.0015724935737904471, 'clfA': 0.03359316640572847, 'fnbB': 0.060393131056015195, 'fnbA': 0.09667788323601248, 'clfB': 0.10519333848693638, 'cna': 0.29717905575676623}\n"
     ]
    }
   ],
   "source": [
    "import os\n",
    "import operator\n",
    "\n",
    "gene_files=[file for file in os.listdir('Data/Genes/') if '.fasta' in file]\n",
    "\n",
    "gene_prevalence={} # keys = gene name, value = number of selected kmers that originated from this gene\n",
    "\n",
    "for kmer in selected_kmers.index:\n",
    "    for file in gene_files:\n",
    "        gene = open(file,'r')\n",
    "        gene_name = file[:file.find('.fasta')]\n",
    "        gene_seq=gene.readlines()\n",
    "        gene_seq.pop(0)\n",
    "        for line in gene_seq:\n",
    "            line=line.rstrip().upper()\n",
    "            if line.find(kmer) != -1:\n",
    "                Flag = False\n",
    "                # print(kmer,line.find(kmer))\n",
    "                if gene_name not in gene_prevalence.keys():\n",
    "                    gene_prevalence[gene_name] = 1\n",
    "                else:\n",
    "                    gene_prevalence[gene_name] += 1\n",
    "\n",
    "gene_prevalence = dict(sorted(gene_prevalence.items(), key=operator.itemgetter(1)))\n",
    "print(gene_prevalence)"
   ]
  },
  {
   "cell_type": "markdown",
   "metadata": {},
   "source": [
    "### 2.2 Plotting bar plot to show which genes the selected kmers originated from and the number of kmers from each gene."
   ]
  },
  {
   "cell_type": "code",
   "execution_count": 5,
   "metadata": {},
   "outputs": [
    {
     "data": {
      "image/png": "[encoded data removed]",
      "text/plain": [
       "<Figure size 640x480 with 1 Axes>"
      ]
     },
     "metadata": {},
     "output_type": "display_data"
    }
   ],
   "source": [
    "import matplotlib.pyplot as plt\n",
    "\n",
    "plt.bar(range(len(gene_prevalence)), gene_prevalence.values(), tick_label=list(gene_prevalence.keys()))\n",
    "for i in range(len(gene_prevalence.keys())):\n",
    "        plt.text(i, list(gene_prevalence.values())[i], list(gene_prevalence.values())[i], ha = 'center')\n",
    "\n",
    "plt.title('Most Discriminating Genes')\n",
    "plt.xlabel('Gene name')\n",
    "plt.ylabel('Number of discriminatory kmers found in gene')\n",
    "plt.show()\n",
    "\n"
   ]
  },
  {
   "cell_type": "markdown",
   "metadata": {},
   "source": [
    "# 3. Creating a new kmer presence/absence matrix of only the kmers used to build the RandomForest model. This will be done by selecting the columns that correspond to these specific kmers from the original full-sized dataframe.and saving them in a new reduced dataframe.\n",
    "This will results in a reduction of the matrix size from (120, 22435) to (120, 1365)."
   ]
  },
  {
   "cell_type": "code",
   "execution_count": 6,
   "metadata": {},
   "outputs": [
    {
     "name": "stdout",
     "output_type": "stream",
     "text": [
      "c:\\Users\\HP\\Desktop\\python_notebooks\\RF\\genes\n",
      "c:\\Users\\HP\\Desktop\\python_notebooks\n",
      "        AAAACAACGCTAATCAAGCGAACAATCAAGC  AAACAACGCTAATCAAGCGAACAATCAAGCA  \\\n",
      "CA_001                              0.0                              0.0   \n",
      "CA_002                              0.0                              0.0   \n",
      "CA_003                              0.0                              0.0   \n",
      "CA_005                              0.0                              0.0   \n",
      "CA_007                              0.0                              0.0   \n",
      "\n",
      "        AAATTATTAAAGTTTAAAGAATAACCACCAT  AAAGATTTTTGTAGTTCTTCATCTTGGTTAA  \\\n",
      "CA_001                              0.0                              0.0   \n",
      "CA_002                              0.0                              0.0   \n",
      "CA_003                              0.0                              0.0   \n",
      "CA_005                              0.0                              0.0   \n",
      "CA_007                              0.0                              0.0   \n",
      "\n",
      "        AACAACGCTAATCAAGCGAACAATCAAGCAC  AACCAAGATGAAGAACTACAAAAATCTTTAG  \\\n",
      "CA_001                              0.0                              0.0   \n",
      "CA_002                              0.0                              0.0   \n",
      "CA_003                              0.0                              0.0   \n",
      "CA_005                              0.0                              0.0   \n",
      "CA_007                              0.0                              0.0   \n",
      "\n",
      "        AATCCGAATCGCTATCTGAATCTGAATCGCT  AATCTGAATCGCTATCCGAGTCTGAGTCGCT  \\\n",
      "CA_001                              0.0                              0.0   \n",
      "CA_002                              0.0                              0.0   \n",
      "CA_003                              0.0                              0.0   \n",
      "CA_005                              0.0                              0.0   \n",
      "CA_007                              0.0                              0.0   \n",
      "\n",
      "        AATCTGAATCGCTATCTGAATCTGAATCGCT  AATCGCTATCCGAGTCTGAGTCGCTGTCTGA  ...  \\\n",
      "CA_001                              1.0                              0.0  ...   \n",
      "CA_002                              0.0                              0.0  ...   \n",
      "CA_003                              1.0                              0.0  ...   \n",
      "CA_005                              0.0                              0.0  ...   \n",
      "CA_007                              0.0                              0.0  ...   \n",
      "\n",
      "        GAATCTGAATCACTCGCTGAATCTGAACCAC  GAATCTGAATCACTCGCTGAGTCTGAATCAC  \\\n",
      "CA_001                              0.0                              0.0   \n",
      "CA_002                              0.0                              0.0   \n",
      "CA_003                              1.0                              0.0   \n",
      "CA_005                              0.0                              0.0   \n",
      "CA_007                              0.0                              0.0   \n",
      "\n",
      "        GAAGTGAGGCGCAAGCAGCAGAATTAGATAC  GATACCAAGCTTGTGAATTATTAACAAACTC  \\\n",
      "CA_001                              0.0                              0.0   \n",
      "CA_002                              0.0                              0.0   \n",
      "CA_003                              0.0                              0.0   \n",
      "CA_005                              0.0                              0.0   \n",
      "CA_007                              0.0                              0.0   \n",
      "\n",
      "        GAGTCTGAATCACTCGCTGAATCCGAGTCAC  GCAACTTTGACCATGCCCGCTTATATTGACC  \\\n",
      "CA_001                              0.0                              0.0   \n",
      "CA_002                              0.0                              0.0   \n",
      "CA_003                              0.0                              0.0   \n",
      "CA_005                              0.0                              0.0   \n",
      "CA_007                              0.0                              0.0   \n",
      "\n",
      "        GCTCTTGATACCAAGCTTGTGAATTATTAAC  GCTGAATCTGAATCACTCGCTGAATCTGAAC  \\\n",
      "CA_001                              0.0                              0.0   \n",
      "CA_002                              0.0                              0.0   \n",
      "CA_003                              0.0                              1.0   \n",
      "CA_005                              0.0                              0.0   \n",
      "CA_007                              0.0                              0.0   \n",
      "\n",
      "        GCGGTGTTGGAGTTTCTGGCTCACTCGGCAC  Label  \n",
      "CA_001                              0.0      1  \n",
      "CA_002                              0.0      1  \n",
      "CA_003                              0.0      0  \n",
      "CA_005                              0.0      1  \n",
      "CA_007                              0.0      0  \n",
      "\n",
      "[5 rows x 22436 columns]\n"
     ]
    }
   ],
   "source": [
    "import os\n",
    "import pandas as pd\n",
    "\n",
    "# Reading the original full-sized kmer presence/absence matrix\n",
    "df = pd.read_csv('Data/Matrices/FullGeneKmerMatrix.csv', index_col=0)\n",
    "\n",
    "# Checking that dataframe was read correctly\n",
    "print(df.head())"
   ]
  },
  {
   "cell_type": "code",
   "execution_count": 7,
   "metadata": {},
   "outputs": [
    {
     "name": "stdout",
     "output_type": "stream",
     "text": [
      "        ACCAGTACCACCTGCCAAAGAAGAACCTAAA  ACAGCGATTCAGACTCAGATAGCGACTCAGA  \\\n",
      "CA_001                              0.0                              1.0   \n",
      "CA_002                              0.0                              0.0   \n",
      "CA_003                              0.0                              1.0   \n",
      "CA_005                              0.0                              1.0   \n",
      "CA_007                              0.0                              0.0   \n",
      "\n",
      "        TAACCAAGACGGAAAACGACCAACTGAAATC  AATTCAACTAAGTTAGACTCAGTAGTAACCT  \\\n",
      "CA_001                              0.0                              0.0   \n",
      "CA_002                              0.0                              0.0   \n",
      "CA_003                              0.0                              0.0   \n",
      "CA_005                              1.0                              0.0   \n",
      "CA_007                              0.0                              0.0   \n",
      "\n",
      "        AGTCGGAATCACTATCTGAATCCGAATCACT  AATATACAGTGACCGAAGATCACGTAAAAGA  \\\n",
      "CA_001                              0.0                              1.0   \n",
      "CA_002                              0.0                              0.0   \n",
      "CA_003                              0.0                              1.0   \n",
      "CA_005                              0.0                              1.0   \n",
      "CA_007                              0.0                              0.0   \n",
      "\n",
      "        TCAACTAAGTTAGACTCAGTAGTAACCTGAC  AGACAGCGATTCAGACTCAGATAGCGACTCA  \\\n",
      "CA_001                              0.0                              1.0   \n",
      "CA_002                              0.0                              0.0   \n",
      "CA_003                              0.0                              1.0   \n",
      "CA_005                              0.0                              1.0   \n",
      "CA_007                              0.0                              0.0   \n",
      "\n",
      "        ACATGTGGATAACAATGATATGGGCAACTTG  TTTTACTTTCTCTCCGTTAGCCAATAAATTC  ...  \\\n",
      "CA_001                              0.0                              0.0  ...   \n",
      "CA_002                              0.0                              0.0  ...   \n",
      "CA_003                              0.0                              0.0  ...   \n",
      "CA_005                              0.0                              0.0  ...   \n",
      "CA_007                              0.0                              0.0  ...   \n",
      "\n",
      "        ACTCAGATTCAGATAGCGATTCAGACTCAGA  ATATCGACTTCGACAGTGTGCCACATATTCA  \\\n",
      "CA_001                              0.0                              0.0   \n",
      "CA_002                              0.0                              0.0   \n",
      "CA_003                              0.0                              0.0   \n",
      "CA_005                              0.0                              0.0   \n",
      "CA_007                              0.0                              0.0   \n",
      "\n",
      "        CCATATCATTGTTATCCACATGTGTTGTATA  TTCAGACAGCGACTCAGACTCAGATAGCGAC  \\\n",
      "CA_001                              1.0                              0.0   \n",
      "CA_002                              0.0                              0.0   \n",
      "CA_003                              1.0                              0.0   \n",
      "CA_005                              1.0                              0.0   \n",
      "CA_007                              0.0                              0.0   \n",
      "\n",
      "        CGGAATCACTGTCGGAATCTGAATCGCTATC  AAGAACGTAAAAAAGGTGGCATGGCCAAAGT  \\\n",
      "CA_001                              0.0                              0.0   \n",
      "CA_002                              1.0                              0.0   \n",
      "CA_003                              0.0                              0.0   \n",
      "CA_005                              0.0                              0.0   \n",
      "CA_007                              1.0                              0.0   \n",
      "\n",
      "        GCTAAAGAAGAACCTAAAAAACCTTCTAAAC  AATTAGGTTACGAAGGTGGCCAAAATAGCGG  \\\n",
      "CA_001                              0.0                              0.0   \n",
      "CA_002                              0.0                              0.0   \n",
      "CA_003                              0.0                              0.0   \n",
      "CA_005                              0.0                              1.0   \n",
      "CA_007                              0.0                              0.0   \n",
      "\n",
      "        ACTTTCTCTCCGTTAGCCAATAAATTCACAC  Label  \n",
      "CA_001                              0.0      1  \n",
      "CA_002                              0.0      1  \n",
      "CA_003                              0.0      0  \n",
      "CA_005                              1.0      1  \n",
      "CA_007                              0.0      0  \n",
      "\n",
      "[5 rows x 1365 columns]\n",
      "(120, 1365)\n"
     ]
    },
    {
     "name": "stderr",
     "output_type": "stream",
     "text": [
      "C:\\Users\\HP\\AppData\\Local\\Temp\\ipykernel_1476\\1131538854.py:3: SettingWithCopyWarning: \n",
      "A value is trying to be set on a copy of a slice from a DataFrame.\n",
      "Try using .loc[row_indexer,col_indexer] = value instead\n",
      "\n",
      "See the caveats in the documentation: https://pandas.pydata.org/pandas-docs/stable/user_guide/indexing.html#returning-a-view-versus-a-copy\n",
      "  filtered_kmer_df['Label'] = labels\n"
     ]
    }
   ],
   "source": [
    "# Creating a new matrix out of the selected kmers only by selecting the rows and columns of these kmers only\n",
    "labels=df.loc[:,'Label']\n",
    "filtered_kmer_df = df[selected_kmers.index]\n",
    "filtered_kmer_df['Label'] = labels\n",
    "print('New reduced dataframe head:\\n', filtered_kmer_df.head())\n",
    "print('Reduced dataframe dimensions:', filtered_kmer_df.shape)"
   ]
  },
  {
   "cell_type": "code",
   "execution_count": 11,
   "metadata": {},
   "outputs": [],
   "source": [
    "# Saving the dataframe\n",
    "filtered_kmer_df.to_csv('Data/Matrices/FilteredKmerMatrix.csv', index=True)"
   ]
  },
  {
   "cell_type": "markdown",
   "metadata": {},
   "source": [
    "# 2. Train/Test split with stratification"
   ]
  },
  {
   "cell_type": "code",
   "execution_count": 8,
   "metadata": {},
   "outputs": [
    {
     "name": "stdout",
     "output_type": "stream",
     "text": [
      "Number of samples within each class:\t\t\t\t\t  (array([0, 1], dtype=int64), array([28, 92], dtype=int64))\n",
      "Number of samples within each class in training dataframe (stratified):\t  (array([0, 1], dtype=int64), array([22, 74], dtype=int64))\n",
      "Number of samples within each class in testing dataframe (stratified):\t  (array([0, 1], dtype=int64), array([ 6, 18], dtype=int64))\n"
     ]
    }
   ],
   "source": [
    "from sklearn.model_selection import train_test_split\n",
    "import numpy as np\n",
    "\n",
    "train_df, test_df = train_test_split(filtered_kmer_df, train_size=0.8, test_size=0.2, random_state=0, stratify=filtered_kmer_df.loc[:,'Label'])\n",
    "train_labels = train_df.loc[:,'Label']\n",
    "test_labels = test_df.loc[:,'Label']\n",
    "\n",
    "print('Number of samples within each class:\\t\\t\\t\\t\\t ' , np.unique(filtered_kmer_df.loc[:,'Label'], return_counts=True))\n",
    "print('Number of samples within each class in training dataframe (stratified):\\t ' , np.unique(train_df.loc[:,'Label'], return_counts=True))\n",
    "print('Number of samples within each class in testing dataframe (stratified):\\t ', np.unique(test_df.loc[:,'Label'], return_counts=True))\n",
    "\n",
    "# Dropping the labels of both the train and test dataframes after storing them in separate series above (train_labels, test_labels)\n",
    "train_df = train_df.drop(labels='Label', axis=1)\n",
    "test_df = test_df.drop(labels='Label', axis=1)"
   ]
  },
  {
   "cell_type": "markdown",
   "metadata": {},
   "source": [
    "# 3. Building Support Vector Machines classifier using default parameters to determine baseline accuracy.\n",
    "**Default parameters for Linear SVM (kernel='linear'):**\n",
    "- C = 1\n",
    "- tol = 0.001\n",
    "\n",
    "**Default parameters for Polynomial SVM (kernel='poly'):**\n",
    "- C = 1\n",
    "- tol = 0.001\n",
    "- degree = 3\n",
    "- gamma = 'scale'\n",
    "- coef0 = 0.0\n",
    "\n",
    "**Default parameters for RBF SVM (kernel='rbf')**\n",
    "- C = 1\n",
    "- tol = 0.001\n",
    "- gamma = 'scale'\n",
    "\n",
    "**Default parameter for Sigmoid SVM (kernel='sigmoid')**\n",
    "- C = 1\n",
    "- tol = 0.001\n",
    "- gamma = 'scale'\n",
    "- coef0 = 0.0"
   ]
  },
  {
   "cell_type": "code",
   "execution_count": 68,
   "metadata": {},
   "outputs": [
    {
     "name": "stdout",
     "output_type": "stream",
     "text": [
      "Linear SVM:\n",
      "\n",
      "Baseline accuracy: \n",
      "[0.6        0.63157895 0.52631579 0.78947368 0.63157895]\n",
      "Mean baseline accuracy: 0.6357894736842106\n",
      "\n",
      "Baseline F1 score: \n",
      "[0.5625     0.64150275 0.57004049 0.78947368 0.61120543]\n",
      "Mean baseline F1 score: 0.6349444699487145\n",
      "---------------------------------------------------------------\n",
      "\n",
      "\n",
      "Polynomial (degree = 3) SVM:\n",
      "\n",
      "Baseline accuracy: \n",
      "[0.75       0.84210526 0.78947368 0.89473684 0.73684211]\n",
      "Mean baseline accuracy: 0.8026315789473685\n",
      "\n",
      "Baseline F1 score: \n",
      "[0.64285714 0.81591074 0.69659443 0.88048246 0.66985646]\n",
      "Mean baseline F1 score: 0.7411402460351326\n",
      "---------------------------------------------------------------\n",
      "\n",
      "\n",
      "Radial Basis Function (RBF) SVM:\n",
      "\n",
      "Baseline accuracy: \n",
      "[0.75       0.73684211 0.78947368 0.84210526 0.78947368]\n",
      "Mean baseline accuracy: 0.781578947368421\n",
      "\n",
      "Baseline F1 score: \n",
      "[0.64285714 0.62519936 0.69659443 0.80191388 0.69659443]\n",
      "Mean baseline F1 score: 0.6926318469971721\n",
      "---------------------------------------------------------------\n",
      "\n",
      "\n",
      "Sigmoid SVM:\n",
      "\n",
      "Baseline accuracy: \n",
      "[0.75       0.73684211 0.78947368 0.78947368 0.78947368]\n",
      "Mean baseline accuracy: 0.7710526315789474\n",
      "\n",
      "Baseline F1 score: \n",
      "[0.64285714 0.62519936 0.69659443 0.69659443 0.69659443]\n",
      "Mean baseline F1 score: 0.6715679573264712\n"
     ]
    }
   ],
   "source": [
    "from sklearn import svm\n",
    "from sklearn.model_selection import cross_val_score\n",
    "\n",
    "# Initializing Linear SVM classifier using default parameters as baseline\n",
    "svm_estimator_linear = svm.SVC(random_state=0,  kernel='linear')\n",
    "baseline_accuracy_linear = cross_val_score(svm_estimator_linear, train_df, train_labels, cv=5, scoring='accuracy')\n",
    "baseline_f1_linear = cross_val_score(svm_estimator_linear, train_df, train_labels, cv=5, scoring='f1_weighted')\n",
    "\n",
    "print('Linear SVM:\\n')\n",
    "print('Baseline accuracy: ')\n",
    "print(baseline_accuracy_linear)\n",
    "print('Mean baseline accuracy:', baseline_accuracy_linear.mean())\n",
    "\n",
    "print('\\nBaseline F1 score: ')\n",
    "print(baseline_f1_linear)\n",
    "print('Mean baseline F1 score:', baseline_f1_linear.mean())\n",
    "print('---------------------------------------------------------------\\n\\n')\n",
    "\n",
    "# Initializing Polynomial (degree = 3) SVM classifier using default parameters as baseline\n",
    "svm_estimator_poly = svm.SVC(random_state=0,  kernel='poly')\n",
    "baseline_accuracy_poly = cross_val_score(svm_estimator_poly, train_df, train_labels, cv=5, scoring='accuracy')\n",
    "baseline_f1_poly = cross_val_score(svm_estimator_poly, train_df, train_labels, cv=5, scoring='f1_weighted')\n",
    "\n",
    "print('Polynomial (degree = 3) SVM:\\n')\n",
    "print('Baseline accuracy: ')\n",
    "print(baseline_accuracy_poly)\n",
    "print('Mean baseline accuracy:', baseline_accuracy_poly.mean())\n",
    "\n",
    "print('\\nBaseline F1 score: ')\n",
    "print(baseline_f1_poly)\n",
    "print('Mean baseline F1 score:', baseline_f1_poly.mean())\n",
    "print('---------------------------------------------------------------\\n\\n')\n",
    "\n",
    "# Initializing RBF SVM classifier using default parameters as baseline\n",
    "svm_estimator_rbf = svm.SVC(random_state=0,  kernel='rbf')\n",
    "baseline_accuracy_rbf = cross_val_score(svm_estimator_rbf, train_df, train_labels, cv=5, scoring='accuracy')\n",
    "baseline_f1_rbf = cross_val_score(svm_estimator_rbf, train_df, train_labels, cv=5, scoring='f1_weighted')\n",
    "\n",
    "print('Radial Basis Function (RBF) SVM:\\n')\n",
    "print('Baseline accuracy: ')\n",
    "print(baseline_accuracy_rbf)\n",
    "print('Mean baseline accuracy:', baseline_accuracy_rbf.mean())\n",
    "\n",
    "print('\\nBaseline F1 score: ')\n",
    "print(baseline_f1_rbf)\n",
    "print('Mean baseline F1 score:', baseline_f1_rbf.mean())\n",
    "print('---------------------------------------------------------------\\n\\n')\n",
    "\n",
    "# Initializing sigmoid SVM classifier using default parameters as baseline\n",
    "svm_estimator_sigmoid = svm.SVC(random_state=0,  kernel='sigmoid')\n",
    "baseline_accuracy_sigmoid = cross_val_score(svm_estimator_sigmoid, train_df, train_labels, cv=5, scoring='accuracy')\n",
    "baseline_f1_sigmoid = cross_val_score(svm_estimator_sigmoid, train_df, train_labels, cv=5, scoring='f1_weighted')\n",
    "\n",
    "print('Sigmoid SVM:\\n')\n",
    "print('Baseline accuracy: ')\n",
    "print(baseline_accuracy_sigmoid)\n",
    "print('Mean baseline accuracy:', baseline_accuracy_sigmoid.mean())\n",
    "\n",
    "print('\\nBaseline F1 score: ')\n",
    "print(baseline_f1_sigmoid)\n",
    "print('Mean baseline F1 score:', baseline_f1_sigmoid.mean())"
   ]
  },
  {
   "cell_type": "markdown",
   "metadata": {},
   "source": [
    "### 4.1 Hyperparameter tuning of Linear SVM"
   ]
  },
  {
   "cell_type": "code",
   "execution_count": 69,
   "metadata": {},
   "outputs": [],
   "source": [
    "# Setting grid search parameters for tuning\n",
    "param_grid_linear = {\n",
    "    'C': [0.001,0.01,0.1,1,10,100,1000],\n",
    "    'tol': [0.001,0.0001,0.00001],\n",
    "\n",
    "}"
   ]
  },
  {
   "cell_type": "code",
   "execution_count": 70,
   "metadata": {},
   "outputs": [
    {
     "name": "stdout",
     "output_type": "stream",
     "text": [
      "\n",
      "Best parameter combination using grid search: {'C': 0.01, 'tol': 0.001}\n",
      "\n",
      "This combination has accuracy:\n",
      "    mean_test_score  std_test_score                     params\n",
      "3         0.802632        0.035306  {'C': 0.01, 'tol': 0.001}\n",
      "\n",
      "Tuned Linear SVM accuracy: \n",
      "[0.75       0.84210526 0.78947368 0.84210526 0.78947368]\n",
      "Mean tuned RandomForest accuracy: 0.8026315789473685\n",
      "\n",
      "Tuned Linear SVM F1 score: \n",
      "[0.64285714 0.81591074 0.69659443 0.80191388 0.69659443]\n",
      "Mean tuned Linear SVM F1 score: 0.7307741235095675\n"
     ]
    }
   ],
   "source": [
    "import numpy as np\n",
    "import pandas as pd\n",
    "from sklearn.model_selection import cross_val_score, GridSearchCV\n",
    "\n",
    "# Performing grid search to tune hyperparameters specified in param_dict\n",
    "grid_search_linear = GridSearchCV(svm_estimator_linear, param_grid_linear, cv=5, scoring='accuracy', n_jobs=36)\n",
    "grid_search_linear.fit(train_df, train_labels)\n",
    "\n",
    "# Determining the best parameters\n",
    "grid_results_linear_df=pd.DataFrame(grid_search_linear.cv_results_)[['mean_test_score', 'std_test_score', 'params']]\n",
    "best_params_linear_grid = grid_search_linear.best_params_\n",
    "best_model_linear_grid = grid_search_linear.best_estimator_\n",
    "\n",
    "print(\"\\nBest parameter combination using grid search:\", best_params_linear_grid)\n",
    "print(\"\\nThis combination has accuracy:\\n\", grid_results_linear_df[grid_results_linear_df['params'] == best_params_linear_grid])\n",
    "\n",
    "# Determining accuracy and F1 score of the model with the most tuned hyperparameters from grid search\n",
    "cv_accuracy_tuned_linear_model_grid = cross_val_score(best_model_linear_grid, train_df, train_labels, cv=5, scoring='accuracy')\n",
    "cv_f1_tuned_linear_model_grid = cross_val_score(best_model_linear_grid, train_df, train_labels, cv=5, scoring='f1_weighted')\n",
    "\n",
    "print('\\nTuned Linear SVM accuracy: ')\n",
    "print(cv_accuracy_tuned_linear_model_grid)\n",
    "print('Mean tuned RandomForest accuracy:', cv_accuracy_tuned_linear_model_grid.mean())\n",
    "\n",
    "print('\\nTuned Linear SVM F1 score: ')\n",
    "print(cv_f1_tuned_linear_model_grid)\n",
    "print('Mean tuned Linear SVM F1 score:', cv_f1_tuned_linear_model_grid.mean())"
   ]
  },
  {
   "cell_type": "markdown",
   "metadata": {},
   "source": [
    "### 4.2 Hyperparameter tuning of Non-Linear SVM (Polynomial, RBF, Sigmoid)"
   ]
  },
  {
   "cell_type": "code",
   "execution_count": 9,
   "metadata": {},
   "outputs": [],
   "source": [
    "# Setting grid search parameters for tuning\n",
    "param_grid_nonlinear1 = {\n",
    "    'C': [0.0001,0.001,0.01,0.1,1,10,100,1000],\n",
    "    'tol': [0.001,0.0001,0.00001],\n",
    "    'kernel':['poly', 'rbf', 'sigmoid'],\n",
    "    'degree':range(3,7,1),\n",
    "    'gamma': ['scale','auto'],\n",
    "}"
   ]
  },
  {
   "cell_type": "code",
   "execution_count": 10,
   "metadata": {},
   "outputs": [
    {
     "name": "stdout",
     "output_type": "stream",
     "text": [
      "Fitting 5 folds for each of 576 candidates, totalling 2880 fits\n",
      "\n",
      "Best parameter combination using grid search: {'C': 1, 'degree': 3, 'gamma': 'scale', 'kernel': 'poly', 'tol': 0.001}\n",
      "\n",
      "This combination has accuracy:\n",
      "      mean_test_score  std_test_score  \\\n",
      "288         0.802632        0.058844   \n",
      "\n",
      "                                                params  \n",
      "288  {'C': 1, 'degree': 3, 'gamma': 'scale', 'kerne...  \n",
      "\n",
      "Tuned Nonlinear SVM accuracy: \n",
      "[0.75       0.84210526 0.78947368 0.89473684 0.73684211]\n",
      "Mean tuned Nonlinear SVM accuracy: 0.8026315789473685\n",
      "\n",
      "Tuned Nonlinear SVM F1 score: \n",
      "[0.64285714 0.81591074 0.69659443 0.88048246 0.66985646]\n",
      "Mean tuned Nonlinear SVM F1 score: 0.7411402460351326\n",
      "\n",
      "Tuned Nonlinear SVM ROC-AUC score: \n",
      "[0.44       0.68571429 0.38333333 0.63333333 0.23333333]\n",
      "Mean tuned Nonlinear SVM ROC-AUC score: 0.4751428571428571\n"
     ]
    }
   ],
   "source": [
    "import numpy as np\n",
    "import pandas as pd\n",
    "from sklearn import svm\n",
    "from sklearn.model_selection import cross_val_score, GridSearchCV\n",
    "\n",
    "# Performing grid search to tune hyperparameters specified in param_dict\n",
    "grid_search_nonlinear1 = GridSearchCV(svm.SVC(random_state=0), param_grid_nonlinear1, cv=5, scoring='accuracy', n_jobs=36, verbose=3)\n",
    "grid_search_nonlinear1.fit(train_df, train_labels)\n",
    "\n",
    "# Determining the best parameters\n",
    "grid_results_nonlinear1_df=pd.DataFrame(grid_search_nonlinear1.cv_results_)[['mean_test_score', 'std_test_score', 'params']]\n",
    "best_params_nonlinear1_grid = grid_search_nonlinear1.best_params_\n",
    "best_model_nonlinear1_grid = grid_search_nonlinear1.best_estimator_\n",
    "\n",
    "print(\"\\nBest parameter combination using grid search:\", best_params_nonlinear1_grid)\n",
    "print(\"\\nThis combination has accuracy:\\n\", grid_results_nonlinear1_df[grid_results_nonlinear1_df['params'] == best_params_nonlinear1_grid])\n",
    "\n",
    "# Determining accuracy and F1 score of the model with the most tuned hyperparameters from grid search\n",
    "cv_accuracy_tuned_nonlinear1_model_grid = cross_val_score(best_model_nonlinear1_grid, train_df, train_labels, cv=5, scoring='accuracy')\n",
    "cv_f1_tuned_nonlinear1_model_grid = cross_val_score(best_model_nonlinear1_grid, train_df, train_labels, cv=5, scoring='f1_weighted')\n",
    "cv_roc_auc_tuned_nonlinear1_model_grid = cross_val_score(best_model_nonlinear1_grid, train_df, train_labels, cv=5, scoring='roc_auc')\n",
    "\n",
    "print('\\nTuned Nonlinear SVM accuracy: ')\n",
    "print(cv_accuracy_tuned_nonlinear1_model_grid)\n",
    "print('Mean tuned Nonlinear SVM accuracy:', cv_accuracy_tuned_nonlinear1_model_grid.mean())\n",
    "\n",
    "print('\\nTuned Nonlinear SVM F1 score: ')\n",
    "print(cv_f1_tuned_nonlinear1_model_grid)\n",
    "print('Mean tuned Nonlinear SVM F1 score:', cv_f1_tuned_nonlinear1_model_grid.mean())\n",
    "\n",
    "print('\\nTuned Nonlinear SVM ROC-AUC score: ')\n",
    "print(cv_roc_auc_tuned_nonlinear1_model_grid)\n",
    "print('Mean tuned Nonlinear SVM ROC-AUC score:', cv_roc_auc_tuned_nonlinear1_model_grid.mean())"
   ]
  },
  {
   "cell_type": "code",
   "execution_count": 14,
   "metadata": {},
   "outputs": [],
   "source": [
    "# Setting grid search parameters for tuning\n",
    "param_grid_balanced = {\n",
    "    'C': [0.0001,0.001,0.01,0.1,1,10,100,1000],\n",
    "    'tol': [0.001,0.0001,0.00001],\n",
    "    'kernel':['poly', 'rbf', 'sigmoid'],\n",
    "    'degree':range(3,7,1),\n",
    "    'gamma': ['scale','auto'],\n",
    "    'class_weight': ['balanced']\n",
    "}"
   ]
  },
  {
   "cell_type": "code",
   "execution_count": 15,
   "metadata": {},
   "outputs": [
    {
     "name": "stdout",
     "output_type": "stream",
     "text": [
      "Fitting 5 folds for each of 576 candidates, totalling 2880 fits\n",
      "\n",
      "Best parameter combination using grid search: {'C': 0.001, 'class_weight': 'balanced', 'degree': 6, 'gamma': 'scale', 'kernel': 'poly', 'tol': 0.001}\n",
      "\n",
      "This combination has accuracy:\n",
      "      mean_test_score  std_test_score  \\\n",
      "126         0.771053        0.022942   \n",
      "\n",
      "                                                params  \n",
      "126  {'C': 0.001, 'class_weight': 'balanced', 'degr...  \n",
      "\n",
      "Tuned Nonlinear SVM accuracy: \n",
      "[0.75       0.73684211 0.78947368 0.78947368 0.78947368]\n",
      "Mean tuned Nonlinear SVM accuracy: 0.7710526315789474\n",
      "\n",
      "Tuned Nonlinear SVM F1 score: \n",
      "[0.64285714 0.62519936 0.69659443 0.69659443 0.69659443]\n",
      "Mean tuned Nonlinear SVM F1 score: 0.6715679573264712\n",
      "\n",
      "Tuned Nonlinear SVM ROC-AUC score: \n",
      "[0.37333333 0.28571429 0.36666667 0.56666667 0.48333333]\n",
      "Mean tuned Nonlinear SVM ROC-AUC score: 0.41514285714285715\n"
     ]
    }
   ],
   "source": [
    "import numpy as np\n",
    "import pandas as pd\n",
    "from sklearn import svm\n",
    "from sklearn.model_selection import cross_val_score, GridSearchCV\n",
    "\n",
    "# Performing grid search to tune hyperparameters specified in param_dict\n",
    "grid_search_balanced = GridSearchCV(svm.SVC(random_state=0), param_grid_balanced, cv=5, scoring='accuracy', n_jobs=36, verbose=3)\n",
    "grid_search_balanced.fit(train_df, train_labels)\n",
    "\n",
    "# Determining the best parameters\n",
    "grid_results_balanced_df=pd.DataFrame(grid_search_balanced.cv_results_)[['mean_test_score', 'std_test_score', 'params']]\n",
    "best_params_balanced_grid = grid_search_balanced.best_params_\n",
    "best_model_balanced_grid = grid_search_balanced.best_estimator_\n",
    "\n",
    "print(\"\\nBest parameter combination using grid search:\", best_params_balanced_grid)\n",
    "print(\"\\nThis combination has accuracy:\\n\", grid_results_balanced_df[grid_results_balanced_df['params'] == best_params_balanced_grid])\n",
    "\n",
    "# Determining accuracy and F1 score of the model with the most tuned hyperparameters from grid search\n",
    "cv_accuracy_tuned_balanced_model_grid = cross_val_score(best_model_balanced_grid, train_df, train_labels, cv=5, scoring='accuracy')\n",
    "cv_f1_tuned_balanced_model_grid = cross_val_score(best_model_balanced_grid, train_df, train_labels, cv=5, scoring='f1_weighted')\n",
    "cv_roc_auc_tuned_balanced_model_grid = cross_val_score(best_model_balanced_grid, train_df, train_labels, cv=5, scoring='roc_auc')\n",
    "\n",
    "print('\\nTuned Nonlinear SVM accuracy: ')\n",
    "print(cv_accuracy_tuned_balanced_model_grid)\n",
    "print('Mean tuned Nonlinear SVM accuracy:', cv_accuracy_tuned_balanced_model_grid.mean())\n",
    "\n",
    "print('\\nTuned Nonlinear SVM F1 score: ')\n",
    "print(cv_f1_tuned_balanced_model_grid)\n",
    "print('Mean tuned Nonlinear SVM F1 score:', cv_f1_tuned_balanced_model_grid.mean())\n",
    "\n",
    "print('\\nTuned Nonlinear SVM ROC-AUC score: ')\n",
    "print(cv_roc_auc_tuned_balanced_model_grid)\n",
    "print('Mean tuned Nonlinear SVM ROC-AUC score:', cv_roc_auc_tuned_balanced_model_grid.mean())\n"
   ]
  },
  {
   "cell_type": "markdown",
   "metadata": {},
   "source": [
    "# 5. Determining the model support vectors\n"
   ]
  },
  {
   "cell_type": "code",
   "execution_count": 12,
   "metadata": {},
   "outputs": [
    {
     "name": "stdout",
     "output_type": "stream",
     "text": [
      "[ 0  6  7  8  9 12 17 21 29 32 38 47 54 58 65 72 79 83 89 94 95  1  2  3\n",
      "  4  5 10 11 13 14 18 19 20 24 26 27 28 33 35 36 37 42 43 44 45 46 50 51\n",
      " 52 53 55 56 57 60 61 63 64 66 67 68 69 70 71 73 74 76 77 78 81 82 84 86\n",
      " 87 88 90 91 93]\n",
      "[21 56]\n"
     ]
    }
   ],
   "source": [
    "# For nonlinear SVM without class balancing\n",
    "\n",
    "# get indices of support vectors\n",
    "print(best_model_nonlinear1_grid.support_)\n",
    "\n",
    "# get number of support vectors for each class\n",
    "print(best_model_nonlinear1_grid.n_support_)"
   ]
  },
  {
   "cell_type": "code",
   "execution_count": 13,
   "metadata": {},
   "outputs": [
    {
     "ename": "NameError",
     "evalue": "name 'best_model_balanced_grid' is not defined",
     "output_type": "error",
     "traceback": [
      "\u001b[1;31m---------------------------------------------------------------------------\u001b[0m",
      "\u001b[1;31mNameError\u001b[0m                                 Traceback (most recent call last)",
      "Cell \u001b[1;32mIn[13], line 4\u001b[0m\n\u001b[0;32m      1\u001b[0m \u001b[38;5;66;03m# For balanced\u001b[39;00m\n\u001b[0;32m      2\u001b[0m \n\u001b[0;32m      3\u001b[0m \u001b[38;5;66;03m# get indices of support vectors\u001b[39;00m\n\u001b[1;32m----> 4\u001b[0m \u001b[38;5;28mprint\u001b[39m(\u001b[43mbest_model_balanced_grid\u001b[49m\u001b[38;5;241m.\u001b[39msupport_)\n\u001b[0;32m      6\u001b[0m \u001b[38;5;66;03m# get number of support vectors for each class\u001b[39;00m\n\u001b[0;32m      7\u001b[0m \u001b[38;5;28mprint\u001b[39m(best_model_balanced_grid\u001b[38;5;241m.\u001b[39mn_support_)\n",
      "\u001b[1;31mNameError\u001b[0m: name 'best_model_balanced_grid' is not defined"
     ]
    }
   ],
   "source": [
    "# For balanced\n",
    "\n",
    "# get indices of support vectors\n",
    "print(best_model_balanced_grid.support_)\n",
    "\n",
    "# get number of support vectors for each class\n",
    "print(best_model_balanced_grid.n_support_)\n"
   ]
  },
  {
   "cell_type": "markdown",
   "metadata": {},
   "source": [
    "# 6. Using the Optimized SVM model on testing data to determine accuracy. This process is done once for nonlinear SVM model without class balancing and again for nonlinear SVM with class balancing.\n",
    "- Classification report\n",
    "- Confusion matrix\n"
   ]
  },
  {
   "cell_type": "code",
   "execution_count": 16,
   "metadata": {},
   "outputs": [
    {
     "name": "stdout",
     "output_type": "stream",
     "text": [
      "              precision    recall  f1-score   support\n",
      "\n",
      "           0       1.00      0.17      0.29         6\n",
      "           1       0.78      1.00      0.88        18\n",
      "\n",
      "    accuracy                           0.79        24\n",
      "   macro avg       0.89      0.58      0.58        24\n",
      "weighted avg       0.84      0.79      0.73        24\n",
      "\n"
     ]
    }
   ],
   "source": [
    "# For nonlinear SVM without class balancing\n",
    "\n",
    "from sklearn.metrics import classification_report\n",
    "\n",
    "SVM_nonlinear_model_predictions = best_model_nonlinear1_grid.predict(test_df) \n",
    "  \n",
    "print(classification_report(test_labels, SVM_nonlinear_model_predictions))\n"
   ]
  },
  {
   "cell_type": "code",
   "execution_count": 19,
   "metadata": {},
   "outputs": [
    {
     "name": "stdout",
     "output_type": "stream",
     "text": [
      "              precision    recall  f1-score   support\n",
      "\n",
      "           0       0.00      0.00      0.00         6\n",
      "           1       0.75      1.00      0.86        18\n",
      "\n",
      "    accuracy                           0.75        24\n",
      "   macro avg       0.38      0.50      0.43        24\n",
      "weighted avg       0.56      0.75      0.64        24\n",
      "\n"
     ]
    },
    {
     "name": "stderr",
     "output_type": "stream",
     "text": [
      "c:\\Users\\HP\\AppData\\Local\\Programs\\Python\\Python312\\Lib\\site-packages\\sklearn\\metrics\\_classification.py:1471: UndefinedMetricWarning: Precision and F-score are ill-defined and being set to 0.0 in labels with no predicted samples. Use `zero_division` parameter to control this behavior.\n",
      "  _warn_prf(average, modifier, msg_start, len(result))\n",
      "c:\\Users\\HP\\AppData\\Local\\Programs\\Python\\Python312\\Lib\\site-packages\\sklearn\\metrics\\_classification.py:1471: UndefinedMetricWarning: Precision and F-score are ill-defined and being set to 0.0 in labels with no predicted samples. Use `zero_division` parameter to control this behavior.\n",
      "  _warn_prf(average, modifier, msg_start, len(result))\n",
      "c:\\Users\\HP\\AppData\\Local\\Programs\\Python\\Python312\\Lib\\site-packages\\sklearn\\metrics\\_classification.py:1471: UndefinedMetricWarning: Precision and F-score are ill-defined and being set to 0.0 in labels with no predicted samples. Use `zero_division` parameter to control this behavior.\n",
      "  _warn_prf(average, modifier, msg_start, len(result))\n"
     ]
    }
   ],
   "source": [
    "# For nonlinear SVM with class balancing\n",
    "\n",
    "from sklearn.metrics import classification_report\n",
    "\n",
    "SVM_nonlinear_model_predictions = best_model_balanced_grid.predict(test_df) \n",
    "  \n",
    "print(classification_report(test_labels, SVM_nonlinear_model_predictions))"
   ]
  },
  {
   "cell_type": "code",
   "execution_count": 18,
   "metadata": {},
   "outputs": [
    {
     "data": {
      "image/png": "[encoded data removed]",
      "text/plain": [
       "<Figure size 640x480 with 2 Axes>"
      ]
     },
     "metadata": {},
     "output_type": "display_data"
    }
   ],
   "source": [
    "# For nonlinear SVM without class balancing\n",
    "\n",
    "import matplotlib.pyplot as plt\n",
    "from sklearn.metrics import confusion_matrix, ConfusionMatrixDisplay\n",
    "\n",
    "SVM_nonlinear_model_predictions = best_model_nonlinear1_grid.predict(test_df) \n",
    "\n",
    "disp = ConfusionMatrixDisplay.from_predictions(test_labels, SVM_nonlinear_model_predictions, labels=best_model_nonlinear1_grid.classes_, cmap='cividis')\n"
   ]
  },
  {
   "cell_type": "code",
   "execution_count": 20,
   "metadata": {},
   "outputs": [
    {
     "data": {
      "image/png": "[encoded data removed]",
      "text/plain": [
       "<Figure size 640x480 with 2 Axes>"
      ]
     },
     "metadata": {},
     "output_type": "display_data"
    }
   ],
   "source": [
    "# For nonlinear SVM with class balancing\n",
    "\n",
    "import matplotlib.pyplot as plt\n",
    "from sklearn.metrics import confusion_matrix, ConfusionMatrixDisplay\n",
    "\n",
    "SVM_nonlinear_model_predictions = best_model_balanced_grid.predict(test_df) \n",
    "\n",
    "disp = ConfusionMatrixDisplay.from_predictions(test_labels, SVM_nonlinear_model_predictions, labels=best_model_balanced_grid.classes_, cmap='cividis')\n"
   ]
  }
 ],
 "metadata": {
  "kernelspec": {
   "display_name": "Python 3",
   "language": "python",
   "name": "python3"
  },
  "language_info": {
   "codemirror_mode": {
    "name": "ipython",
    "version": 3
   },
   "file_extension": ".py",
   "mimetype": "text/x-python",
   "name": "python",
   "nbconvert_exporter": "python",
   "pygments_lexer": "ipython3",
   "version": "3.12.1"
  }
 },
 "nbformat": 4,
 "nbformat_minor": 2
}
