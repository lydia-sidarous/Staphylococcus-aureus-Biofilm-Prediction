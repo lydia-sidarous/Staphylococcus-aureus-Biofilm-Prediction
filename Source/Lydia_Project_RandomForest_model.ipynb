{
  "cells": [
    {
      "cell_type": "markdown",
      "metadata": {
        "id": "4FwORHU76N3R"
      },
      "source": [
        "# 1. Reading kmer presence/absence matrix which will be used as input to the model"
      ]
    },
    {
      "cell_type": "code",
      "execution_count": 2,
      "metadata": {
        "colab": {
          "base_uri": "https://localhost:8080/"
        },
        "id": "BbeYsgtPTFWa",
        "outputId": "1ead1e98-b561-4d36-c924-797b363be3e3"
      },
      "outputs": [
        {
          "name": "stdout",
          "output_type": "stream",
          "text": [
            "        AAAACAACGCTAATCAAGCGAACAATCAAGC  AAACAACGCTAATCAAGCGAACAATCAAGCA  \\\n",
            "CA_001                              0.0                              0.0   \n",
            "CA_002                              0.0                              0.0   \n",
            "CA_003                              0.0                              0.0   \n",
            "CA_005                              0.0                              0.0   \n",
            "CA_007                              0.0                              0.0   \n",
            "\n",
            "        AAATTATTAAAGTTTAAAGAATAACCACCAT  AAAGATTTTTGTAGTTCTTCATCTTGGTTAA  \\\n",
            "CA_001                              0.0                              0.0   \n",
            "CA_002                              0.0                              0.0   \n",
            "CA_003                              0.0                              0.0   \n",
            "CA_005                              0.0                              0.0   \n",
            "CA_007                              0.0                              0.0   \n",
            "\n",
            "        AACAACGCTAATCAAGCGAACAATCAAGCAC  AACCAAGATGAAGAACTACAAAAATCTTTAG  \\\n",
            "CA_001                              0.0                              0.0   \n",
            "CA_002                              0.0                              0.0   \n",
            "CA_003                              0.0                              0.0   \n",
            "CA_005                              0.0                              0.0   \n",
            "CA_007                              0.0                              0.0   \n",
            "\n",
            "        AATCCGAATCGCTATCTGAATCTGAATCGCT  AATCTGAATCGCTATCCGAGTCTGAGTCGCT  \\\n",
            "CA_001                              0.0                              0.0   \n",
            "CA_002                              0.0                              0.0   \n",
            "CA_003                              0.0                              0.0   \n",
            "CA_005                              0.0                              0.0   \n",
            "CA_007                              0.0                              0.0   \n",
            "\n",
            "        AATCTGAATCGCTATCTGAATCTGAATCGCT  AATCGCTATCCGAGTCTGAGTCGCTGTCTGA  ...  \\\n",
            "CA_001                              1.0                              0.0  ...   \n",
            "CA_002                              0.0                              0.0  ...   \n",
            "CA_003                              1.0                              0.0  ...   \n",
            "CA_005                              0.0                              0.0  ...   \n",
            "CA_007                              0.0                              0.0  ...   \n",
            "\n",
            "        GAATCTGAATCACTCGCTGAATCTGAACCAC  GAATCTGAATCACTCGCTGAGTCTGAATCAC  \\\n",
            "CA_001                              0.0                              0.0   \n",
            "CA_002                              0.0                              0.0   \n",
            "CA_003                              1.0                              0.0   \n",
            "CA_005                              0.0                              0.0   \n",
            "CA_007                              0.0                              0.0   \n",
            "\n",
            "        GAAGTGAGGCGCAAGCAGCAGAATTAGATAC  GATACCAAGCTTGTGAATTATTAACAAACTC  \\\n",
            "CA_001                              0.0                              0.0   \n",
            "CA_002                              0.0                              0.0   \n",
            "CA_003                              0.0                              0.0   \n",
            "CA_005                              0.0                              0.0   \n",
            "CA_007                              0.0                              0.0   \n",
            "\n",
            "        GAGTCTGAATCACTCGCTGAATCCGAGTCAC  GCAACTTTGACCATGCCCGCTTATATTGACC  \\\n",
            "CA_001                              0.0                              0.0   \n",
            "CA_002                              0.0                              0.0   \n",
            "CA_003                              0.0                              0.0   \n",
            "CA_005                              0.0                              0.0   \n",
            "CA_007                              0.0                              0.0   \n",
            "\n",
            "        GCTCTTGATACCAAGCTTGTGAATTATTAAC  GCTGAATCTGAATCACTCGCTGAATCTGAAC  \\\n",
            "CA_001                              0.0                              0.0   \n",
            "CA_002                              0.0                              0.0   \n",
            "CA_003                              0.0                              1.0   \n",
            "CA_005                              0.0                              0.0   \n",
            "CA_007                              0.0                              0.0   \n",
            "\n",
            "        GCGGTGTTGGAGTTTCTGGCTCACTCGGCAC  Label  \n",
            "CA_001                              0.0      1  \n",
            "CA_002                              0.0      1  \n",
            "CA_003                              0.0      0  \n",
            "CA_005                              0.0      1  \n",
            "CA_007                              0.0      0  \n",
            "\n",
            "[5 rows x 22436 columns]\n"
          ]
        }
      ],
      "source": [
        "import os\n",
        "import pandas as pd\n",
        "\n",
        "os.chdir('..')\n",
        "\n",
        "# Reading the kmer presence/absence matrix into a dataframe to use as input to models\n",
        "df = pd.read_csv('/Data/Matrices/FullGeneKmerMatrix.csv', index_col=0)\n",
        "\n",
        "# Checking that dataframe was read correctly\n",
        "print(df.head())"
      ]
    },
    {
      "cell_type": "markdown",
      "metadata": {
        "id": "kwGBRtkIun_S"
      },
      "source": [
        "# 2. Train/Test split with stratification"
      ]
    },
    {
      "cell_type": "code",
      "execution_count": 3,
      "metadata": {
        "colab": {
          "base_uri": "https://localhost:8080/"
        },
        "id": "NB4US8SvZ0Um",
        "outputId": "3dedad6d-d4d9-40af-db57-e4adadba8e67"
      },
      "outputs": [
        {
          "name": "stdout",
          "output_type": "stream",
          "text": [
            "Number of samples within each class:\t\t\t\t\t  (array([0, 1], dtype=int64), array([28, 92], dtype=int64))\n",
            "Number of samples within each class in training dataframe (stratified):\t  (array([0, 1], dtype=int64), array([22, 74], dtype=int64))\n",
            "Number of samples within each class in testing dataframe (stratified):\t  (array([0, 1], dtype=int64), array([ 6, 18], dtype=int64))\n"
          ]
        }
      ],
      "source": [
        "from sklearn.model_selection import train_test_split\n",
        "import numpy as np\n",
        "\n",
        "train_df, test_df = train_test_split(df, train_size=0.8, test_size=0.2, random_state=0, stratify=df.loc[:,'Label'])\n",
        "train_labels = train_df.loc[:,'Label']\n",
        "test_labels = test_df.loc[:,'Label']\n",
        "\n",
        "print('Number of samples within each class:\\t\\t\\t\\t\\t ' , np.unique(df.loc[:,'Label'], return_counts=True))\n",
        "print('Number of samples within each class in training dataframe (stratified):\\t ' , np.unique(train_df.loc[:,'Label'], return_counts=True))\n",
        "print('Number of samples within each class in testing dataframe (stratified):\\t ', np.unique(test_df.loc[:,'Label'], return_counts=True))\n",
        "\n",
        "# Dropping the labels of both the train and test dataframes after storing them in separate series above (train_labels, test_labels)\n",
        "train_df = train_df.drop(labels='Label', axis=1)\n",
        "test_df = test_df.drop(labels='Label', axis=1)"
      ]
    },
    {
      "cell_type": "markdown",
      "metadata": {
        "id": "l_Hj6H8buvoz"
      },
      "source": [
        "# 3. Building RandomForest classifier using default parameters to determine baseline accuracy.\n",
        "Default parameters:\n",
        "- n_estimators=100\n",
        "- criterion='gini'\n",
        "- max_depth=None\n",
        "- min_samples_split=2\n",
        "- min_samples_leaf=1"
      ]
    },
    {
      "cell_type": "code",
      "execution_count": 4,
      "metadata": {
        "colab": {
          "base_uri": "https://localhost:8080/"
        },
        "id": "P6CBrX5jvHic",
        "outputId": "344f7b76-4730-4529-9def-ebfb85decf3b"
      },
      "outputs": [
        {
          "name": "stdout",
          "output_type": "stream",
          "text": [
            "Baseline accuracy using default parameters: \n",
            "[0.65       0.73684211 0.63157895 0.84210526 0.73684211]\n",
            "Mean baseline accuracy: 0.7194736842105264\n",
            "\n",
            "Baseline F1 score using default parameters: \n",
            "[0.63620072 0.72675943 0.6456947  0.80191388 0.66985646]\n",
            "Mean baseline F1 score: 0.6960850351178787\n"
          ]
        }
      ],
      "source": [
        "from sklearn.ensemble import RandomForestClassifier\n",
        "from sklearn.model_selection import cross_val_score\n",
        "\n",
        "# Initiailzing RandomForest classifier using default parameters\n",
        "baseline_rf = RandomForestClassifier(random_state=0)\n",
        "\n",
        "# Determining baseline accuracy and F1 score\n",
        "baseline_accuracy = cross_val_score(baseline_rf, train_df, train_labels, cv=5, scoring='accuracy')\n",
        "baseline_f1 = cross_val_score(baseline_rf, train_df, train_labels, cv=5, scoring='f1_weighted')\n",
        "\n",
        "print('Baseline accuracy using default parameters: ')\n",
        "print(baseline_accuracy)\n",
        "print('Mean baseline accuracy:', baseline_accuracy.mean())\n",
        "\n",
        "print('\\nBaseline F1 score using default parameters: ')\n",
        "print(baseline_f1)\n",
        "print('Mean baseline F1 score:', baseline_f1.mean())"
      ]
    },
    {
      "cell_type": "markdown",
      "metadata": {
        "id": "Zsh4cT1Awzru"
      },
      "source": [
        "# 4. Hyperparameter tuning using GridSearchCV\n"
      ]
    },
    {
      "cell_type": "markdown",
      "metadata": {},
      "source": [
        "### 4.1 Without balancing class weights"
      ]
    },
    {
      "cell_type": "code",
      "execution_count": 6,
      "metadata": {},
      "outputs": [],
      "source": [
        "# Setting grid search parameters for tuning\n",
        "param_grid = {\n",
        "    'n_estimators': range(100, 1100, 100),\n",
        "    'max_depth': range(10, 110, 10),\n",
        "    'min_samples_leaf': range(1, 51, 1),\n",
        "\n",
        "}"
      ]
    },
    {
      "cell_type": "code",
      "execution_count": 7,
      "metadata": {},
      "outputs": [
        {
          "name": "stdout",
          "output_type": "stream",
          "text": [
            "\n",
            "Best parameter combination using grid search: {'max_depth': 10, 'min_samples_leaf': 2, 'n_estimators': 200}\n",
            "\n",
            "This combination has accuracy:\n",
            "     mean_test_score  std_test_score  \\\n",
            "11         0.781579        0.049653   \n",
            "\n",
            "                                               params  \n",
            "11  {'max_depth': 10, 'min_samples_leaf': 2, 'n_es...  \n",
            "\n",
            "Tuned RandomForest accuracy: \n",
            "[0.75       0.84210526 0.73684211 0.84210526 0.73684211]\n",
            "Mean tuned RandomForest accuracy: 0.781578947368421\n",
            "\n",
            "Tuned RandomForest F1 score: \n",
            "[0.64285714 0.81591074 0.66985646 0.80191388 0.66985646]\n",
            "Mean tuned RandomForest F1 score: 0.7200789363437919\n",
            "\n",
            "Tuned RandomForest ROC AUC score: \n",
            "[0.36       0.55714286 0.38333333 0.71666667 0.41666667]\n",
            "Mean tuned RandomForest ROC AUC score: 0.4867619047619047\n"
          ]
        }
      ],
      "source": [
        "import numpy as np\n",
        "import pandas as pd\n",
        "from sklearn.model_selection import cross_val_score, GridSearchCV\n",
        "\n",
        "# Performing grid search to tune hyperparameters specified in param_dict\n",
        "grid_search = GridSearchCV(baseline_rf, param_grid, cv=5, scoring='accuracy', n_jobs=36)\n",
        "grid_search.fit(train_df, train_labels)\n",
        "\n",
        "# Determining the best parameters\n",
        "grid_results_df=pd.DataFrame(grid_search.cv_results_)[['mean_test_score', 'std_test_score', 'params']]\n",
        "best_params_grid = grid_search.best_params_\n",
        "best_model_grid = grid_search.best_estimator_\n",
        "\n",
        "print(\"\\nBest parameter combination using grid search:\", best_params_grid)\n",
        "print(\"\\nThis combination has accuracy:\\n\", grid_results_df[grid_results_df['params'] == best_params_grid])\n",
        "\n",
        "# Determining accuracy and F1 score of the model with the most tuned hyperparameters from grid search\n",
        "cv_accuracy_tuned_model_grid = cross_val_score(best_model_grid, train_df, train_labels, cv=5, scoring='accuracy')\n",
        "cv_f1_tuned_model_grid = cross_val_score(best_model_grid, train_df, train_labels, cv=5, scoring='f1_weighted')\n",
        "cv_roc_auc_tuned_model_grid = cross_val_score(best_model_grid, train_df, train_labels, cv=5, scoring='roc_auc')\n",
        "\n",
        "print('\\nTuned RandomForest accuracy: ')\n",
        "print(cv_accuracy_tuned_model_grid)\n",
        "print('Mean tuned RandomForest accuracy:', cv_accuracy_tuned_model_grid.mean())\n",
        "\n",
        "print('\\nTuned RandomForest F1 score: ')\n",
        "print(cv_f1_tuned_model_grid)\n",
        "print('Mean tuned RandomForest F1 score:', cv_f1_tuned_model_grid.mean())\n",
        "\n",
        "print('\\nTuned RandomForest ROC AUC score: ')\n",
        "print(cv_roc_auc_tuned_model_grid)\n",
        "print('Mean tuned RandomForest ROC AUC score:', cv_roc_auc_tuned_model_grid.mean())"
      ]
    },
    {
      "cell_type": "markdown",
      "metadata": {},
      "source": [
        "### 4.2 With balancing class weights"
      ]
    },
    {
      "cell_type": "code",
      "execution_count": 10,
      "metadata": {},
      "outputs": [],
      "source": [
        "# Setting grid search parameters for tuning\n",
        "param_grid_balanced = {\n",
        "    'n_estimators': range(100, 1100, 100),\n",
        "    'max_depth': range(10, 110, 10),\n",
        "    'min_samples_leaf': range(1, 11, 1),\n",
        "    'class_weight': ['balanced', 'balanced_subsample']\n",
        "}"
      ]
    },
    {
      "cell_type": "code",
      "execution_count": 11,
      "metadata": {},
      "outputs": [
        {
          "name": "stdout",
          "output_type": "stream",
          "text": [
            "Fitting 5 folds for each of 2000 candidates, totalling 10000 fits\n",
            "\n",
            "Best parameter combination using grid search: {'class_weight': 'balanced', 'max_depth': 10, 'min_samples_leaf': 2, 'n_estimators': 900}\n",
            "\n",
            "This combination has accuracy:\n",
            "     mean_test_score  std_test_score  \\\n",
            "18         0.728947        0.052368   \n",
            "\n",
            "                                               params  \n",
            "18  {'class_weight': 'balanced', 'max_depth': 10, ...  \n",
            "\n",
            "Tuned balanced RandomForest accuracy: \n",
            "[0.75       0.73684211 0.63157895 0.78947368 0.73684211]\n",
            "Mean tuned balanced RandomForest accuracy: 0.7289473684210527\n",
            "\n",
            "Tuned balanced RandomForest F1 score: \n",
            "[0.70779221 0.72675943 0.61120543 0.76096491 0.66985646]\n",
            "Mean tuned balanced RandomForest F1 score: 0.6953156879288254\n",
            "\n",
            "Tuned balanced RandomForest ROC AUC score: \n",
            "[0.44       0.57142857 0.38333333 0.55       0.43333333]\n",
            "Mean tuned balanced RandomForest ROC AUC score: 0.47561904761904755\n"
          ]
        }
      ],
      "source": [
        "import numpy as np\n",
        "import pandas as pd\n",
        "from sklearn.model_selection import cross_val_score, GridSearchCV\n",
        "\n",
        "# Performing grid search to tune hyperparameters specified in param_dict\n",
        "grid_search_balanced = GridSearchCV(baseline_rf, param_grid_balanced, cv=5, scoring='accuracy', n_jobs=36, verbose=3)\n",
        "grid_search_balanced.fit(train_df, train_labels)\n",
        "\n",
        "# Determining the best parameters\n",
        "grid_results_balanced_df=pd.DataFrame(grid_search_balanced.cv_results_)[['mean_test_score', 'std_test_score', 'params']]\n",
        "best_params_balanced_grid = grid_search_balanced.best_params_\n",
        "best_model_balanced_grid = grid_search_balanced.best_estimator_\n",
        "\n",
        "print(\"\\nBest parameter combination using grid search:\", best_params_balanced_grid)\n",
        "print(\"\\nThis combination has accuracy:\\n\", grid_results_balanced_df[grid_results_balanced_df['params'] == best_params_balanced_grid])\n",
        "\n",
        "# Determining accuracy and F1 score of the model with the most tuned hyperparameters from grid search\n",
        "cv_accuracy_tuned_balanced_model_grid = cross_val_score(best_model_balanced_grid, train_df, train_labels, cv=5, scoring='accuracy')\n",
        "cv_f1_tuned_balanced_model_grid = cross_val_score(best_model_balanced_grid, train_df, train_labels, cv=5, scoring='f1_weighted')\n",
        "cv_roc_auc_tuned_balanced_model_grid = cross_val_score(best_model_balanced_grid, train_df, train_labels, cv=5, scoring='roc_auc')\n",
        "\n",
        "print('\\nTuned balanced RandomForest accuracy: ')\n",
        "print(cv_accuracy_tuned_balanced_model_grid)\n",
        "print('Mean tuned balanced RandomForest accuracy:', cv_accuracy_tuned_balanced_model_grid.mean())\n",
        "\n",
        "print('\\nTuned balanced RandomForest F1 score: ')\n",
        "print(cv_f1_tuned_balanced_model_grid)\n",
        "print('Mean tuned balanced RandomForest F1 score:', cv_f1_tuned_balanced_model_grid.mean())\n",
        "\n",
        "print('\\nTuned balanced RandomForest ROC AUC score: ')\n",
        "print(cv_roc_auc_tuned_balanced_model_grid)\n",
        "print('Mean tuned balanced RandomForest ROC AUC score:', cv_roc_auc_tuned_balanced_model_grid.mean())"
      ]
    },
    {
      "cell_type": "markdown",
      "metadata": {},
      "source": [
        "# 5. Using the Optimized RF model on testing data to determine accuracy. This process is done once for RF model without class balancing and again for RF with class balancing.\n",
        "- Classification report\n",
        "- Confusion matrix\n"
      ]
    },
    {
      "cell_type": "code",
      "execution_count": 31,
      "metadata": {},
      "outputs": [
        {
          "name": "stdout",
          "output_type": "stream",
          "text": [
            "              precision    recall  f1-score   support\n",
            "\n",
            "           0       1.00      0.17      0.29         6\n",
            "           1       0.78      1.00      0.88        18\n",
            "\n",
            "    accuracy                           0.79        24\n",
            "   macro avg       0.89      0.58      0.58        24\n",
            "weighted avg       0.84      0.79      0.73        24\n",
            "\n"
          ]
        }
      ],
      "source": [
        "# For RF without class balancing\n",
        "\n",
        "from sklearn.metrics import classification_report\n",
        "\n",
        "RFmodel_predictions = best_model_grid.predict(test_df) \n",
        "  \n",
        "print(classification_report(test_labels, RFmodel_predictions))"
      ]
    },
    {
      "cell_type": "code",
      "execution_count": 12,
      "metadata": {},
      "outputs": [
        {
          "name": "stdout",
          "output_type": "stream",
          "text": [
            "              precision    recall  f1-score   support\n",
            "\n",
            "           0       0.33      0.17      0.22         6\n",
            "           1       0.76      0.89      0.82        18\n",
            "\n",
            "    accuracy                           0.71        24\n",
            "   macro avg       0.55      0.53      0.52        24\n",
            "weighted avg       0.65      0.71      0.67        24\n",
            "\n"
          ]
        }
      ],
      "source": [
        "# For RF with class balancing\n",
        "\n",
        "from sklearn.metrics import classification_report\n",
        "\n",
        "RFmodel_predictions = best_model_balanced_grid.predict(test_df) \n",
        "  \n",
        "print(classification_report(test_labels, RFmodel_predictions))"
      ]
    },
    {
      "cell_type": "code",
      "execution_count": 33,
      "metadata": {},
      "outputs": [
        {
          "data": {
            "image/png": "[encoded data removed]",
            "text/plain": [
              "<Figure size 640x480 with 2 Axes>"
            ]
          },
          "metadata": {},
          "output_type": "display_data"
        }
      ],
      "source": [
        "# For RF without class balancing\n",
        "\n",
        "import matplotlib.pyplot as plt\n",
        "from sklearn.metrics import confusion_matrix, ConfusionMatrixDisplay\n",
        "\n",
        "RFmodel_predictions = best_model_grid.predict(test_df) \n",
        "\n",
        "disp = ConfusionMatrixDisplay.from_predictions(test_labels, RFmodel_predictions, labels=best_model_grid.classes_, cmap='cividis')\n"
      ]
    },
    {
      "cell_type": "code",
      "execution_count": 13,
      "metadata": {},
      "outputs": [
        {
          "data": {
            "image/png": "[encoded data removed]",
            "text/plain": [
              "<Figure size 640x480 with 2 Axes>"
            ]
          },
          "metadata": {},
          "output_type": "display_data"
        }
      ],
      "source": [
        "# For RF with class balancing\n",
        "\n",
        "import matplotlib.pyplot as plt\n",
        "from sklearn.metrics import confusion_matrix, ConfusionMatrixDisplay\n",
        "\n",
        "RFmodel_predictions = best_model_balanced_grid.predict(test_df) \n",
        "\n",
        "disp = ConfusionMatrixDisplay.from_predictions(test_labels, RFmodel_predictions, labels=best_model_balanced_grid.classes_, cmap='cividis')"
      ]
    },
    {
      "cell_type": "markdown",
      "metadata": {},
      "source": [
        "# 6. Extracting the kmers used by RandomForest classifier according to feature importance\n",
        "- Sorting the kmers by descending feature importance\n",
        "- Extracting the kmers with nonzero feature importances only\n",
        "\n",
        "This step is done as a type of feature selection method that identifies the most important kmers for classification. These specific kmers can then be used as input to another model instead of using the full kmer matrix which contained 22,435 kmers."
      ]
    },
    {
      "cell_type": "code",
      "execution_count": 15,
      "metadata": {},
      "outputs": [
        {
          "name": "stdout",
          "output_type": "stream",
          "text": [
            "Matrix of Kmer importances for all kmers:\n",
            "                               Kmer  Importance\n",
            "0  AAAACAACGCTAATCAAGCGAACAATCAAGC         0.0\n",
            "1  AAACAACGCTAATCAAGCGAACAATCAAGCA         0.0\n",
            "2  AAATTATTAAAGTTTAAAGAATAACCACCAT         0.0\n",
            "3  AAAGATTTTTGTAGTTCTTCATCTTGGTTAA         0.0\n",
            "4  AACAACGCTAATCAAGCGAACAATCAAGCAC         0.0\n",
            "Dimensions: (22435, 2)\n",
            "\n",
            "Matrix of Kmer importances sorted by descending importance:\n",
            "                                   Kmer  Importance\n",
            "17740  ACCAGTACCACCTGCCAAAGAAGAACCTAAA    0.009313\n",
            "18028  ACAGCGATTCAGACTCAGATAGCGACTCAGA    0.007401\n",
            "18481  TAACCAAGACGGAAAACGACCAACTGAAATC    0.006464\n",
            "13648  AATTCAACTAAGTTAGACTCAGTAGTAACCT    0.006102\n",
            "11165  AGTCGGAATCACTATCTGAATCCGAATCACT    0.004921\n",
            "Dimensions: (22435, 2)\n",
            "\n",
            "Matrix of Kmer importances for kmers used in RF construction only (i.e. kmers with nonzero importance values only):\n",
            "                                   Kmer  Importance\n",
            "17740  ACCAGTACCACCTGCCAAAGAAGAACCTAAA    0.009313\n",
            "18028  ACAGCGATTCAGACTCAGATAGCGACTCAGA    0.007401\n",
            "18481  TAACCAAGACGGAAAACGACCAACTGAAATC    0.006464\n",
            "13648  AATTCAACTAAGTTAGACTCAGTAGTAACCT    0.006102\n",
            "11165  AGTCGGAATCACTATCTGAATCCGAATCACT    0.004921\n",
            "Dimensions: (1364, 2)\n"
          ]
        }
      ],
      "source": [
        "# Extract kmers used to build tree\n",
        "rf_importances = best_model_grid.feature_importances_\n",
        "\n",
        "# Save Kmers and their corresponding importance values in dataframe\n",
        "rf_importances_df = pd.DataFrame({\n",
        "    'Kmer': train_df.columns,\n",
        "    'Importance': rf_importances\n",
        "})\n",
        "\n",
        "print('Matrix of Kmer importances for all kmers:\\n', rf_importances_df.head())\n",
        "print('Dimensions:', rf_importances_df.shape)\n",
        "\n",
        "# Save Kmers and their corresponding importance values in dataframe\n",
        "rf_importances_df = rf_importances_df.sort_values(by='Importance', ascending=False)\n",
        "print('\\nMatrix of Kmer importances sorted by descending importance:\\n', rf_importances_df.head())\n",
        "print('Dimensions:', rf_importances_df.shape)\n",
        "\n",
        "nonzero_importances = rf_importances_df[rf_importances_df['Importance'] != 0]\n",
        "print('\\nMatrix of Kmer importances for kmers used in RF construction only (i.e. kmers with nonzero importance values only):\\n', nonzero_importances.head())\n",
        "print('Dimensions:', nonzero_importances.shape)\n",
        "\n",
        "nonzero_importances.to_csv('Data/Matrices/ImportantKmers.csv', index=True)"
      ]
    }
  ],
  "metadata": {
    "colab": {
      "provenance": []
    },
    "kernelspec": {
      "display_name": "Python 3",
      "name": "python3"
    },
    "language_info": {
      "codemirror_mode": {
        "name": "ipython",
        "version": 3
      },
      "file_extension": ".py",
      "mimetype": "text/x-python",
      "name": "python",
      "nbconvert_exporter": "python",
      "pygments_lexer": "ipython3",
      "version": "3.12.1"
    }
  },
  "nbformat": 4,
  "nbformat_minor": 0
}
